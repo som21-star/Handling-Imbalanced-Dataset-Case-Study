{
 "cells": [
  {
   "cell_type": "markdown",
   "metadata": {},
   "source": [
    "# Handling Imbalanced Dataset - Case Study"
   ]
  },
  {
   "cell_type": "markdown",
   "metadata": {},
   "source": [
    "# Contents"
   ]
  },
  {
   "cell_type": "markdown",
   "metadata": {},
   "source": [
    "1. Introduction\n",
    "2. Problem Statement\n",
    "3. Data Understanding\n",
    "4. Exploratory Data Analysis\n",
    "5. Feature Engineering\n",
    "6. Handling Imbalanced Classes\n",
    "7. Accuracy Paradox\n",
    "8. Evaluation Metric\n",
    "9. Conclusion"
   ]
  },
  {
   "cell_type": "markdown",
   "metadata": {},
   "source": [
    "# Introduction"
   ]
  },
  {
   "cell_type": "markdown",
   "metadata": {},
   "source": [
    "In a classification problem most of the times we encounter problem of class imbalance. It is very important to understand what an imbalanced dataset is and how do we handle and evaluate a classification model build on imbalanced dataset. For e.g. You are given a dataset to predict insurance claims. You have built a classification model and achieved an accuracy of ~96%.\n",
    "1. Why shouldn't you be happy with your model performance?\n",
    "2. What can you do about it."
   ]
  },
  {
   "cell_type": "markdown",
   "metadata": {},
   "source": [
    "# Problem Statement"
   ]
  },
  {
   "cell_type": "markdown",
   "metadata": {},
   "source": [
    "One of the largest auto insurance company is facing problem of inaccuracies in car insurance claim predictions. This eventually leads them to raise the cost of insurance of good drivers and reduce it for bad drivers. The company wants you to \n",
    "\n",
    "- Build a model that predicts the probability that a driver will file an insurance claim in coming year"
   ]
  },
  {
   "cell_type": "markdown",
   "metadata": {},
   "source": [
    "# Data Understanding"
   ]
  },
  {
   "cell_type": "markdown",
   "metadata": {},
   "source": [
    "The dataset has close to 600K observations with 59 columns. This include \"id\" and \"target\" column. Therefore 57 features (inputs). Data is annonymized in order to protect the company's trade secrets, but some information about the nature of each varaible. Each row corresponds to a policy holder, and the target columns signifies that a claim was filed.\n",
    "\n",
    "1. Values of -1 indicate that the feature was missing from the observation.\n",
    "2. Target column signifies whether or not a claim was filed for that policy holder.\n",
    "3. Ind is related to individual or driver\n",
    "4. Reg is related to region\n",
    "5. Car is related to car itself\n",
    "6. Calc is a calculated feature\n",
    "7. Feature names include the postfix bin to indicate binary features and cat to indicate categorical features.\n",
    "8. Features without these designations are either continuous or ordinal\n",
    "\n",
    "Okay, lets get started and look at the dataset."
   ]
  },
  {
   "cell_type": "code",
   "execution_count": 1,
   "metadata": {},
   "outputs": [],
   "source": [
    "# Importing the libraries \n",
    "import pandas as pd\n",
    "import numpy as np\n",
    "import matplotlib.pyplot as plt\n",
    "import seaborn as sns"
   ]
  },
  {
   "cell_type": "code",
   "execution_count": 2,
   "metadata": {
    "scrolled": true
   },
   "outputs": [
    {
     "name": "stdout",
     "output_type": "stream",
     "text": [
      "(595212, 59)\n"
     ]
    },
    {
     "data": {
      "text/html": [
       "<div>\n",
       "<style scoped>\n",
       "    .dataframe tbody tr th:only-of-type {\n",
       "        vertical-align: middle;\n",
       "    }\n",
       "\n",
       "    .dataframe tbody tr th {\n",
       "        vertical-align: top;\n",
       "    }\n",
       "\n",
       "    .dataframe thead th {\n",
       "        text-align: right;\n",
       "    }\n",
       "</style>\n",
       "<table border=\"1\" class=\"dataframe\">\n",
       "  <thead>\n",
       "    <tr style=\"text-align: right;\">\n",
       "      <th></th>\n",
       "      <th>id</th>\n",
       "      <th>target</th>\n",
       "      <th>ps_ind_01</th>\n",
       "      <th>ps_ind_02_cat</th>\n",
       "      <th>ps_ind_03</th>\n",
       "      <th>ps_ind_04_cat</th>\n",
       "      <th>ps_ind_05_cat</th>\n",
       "      <th>ps_ind_06_bin</th>\n",
       "      <th>ps_ind_07_bin</th>\n",
       "      <th>ps_ind_08_bin</th>\n",
       "      <th>...</th>\n",
       "      <th>ps_calc_11</th>\n",
       "      <th>ps_calc_12</th>\n",
       "      <th>ps_calc_13</th>\n",
       "      <th>ps_calc_14</th>\n",
       "      <th>ps_calc_15_bin</th>\n",
       "      <th>ps_calc_16_bin</th>\n",
       "      <th>ps_calc_17_bin</th>\n",
       "      <th>ps_calc_18_bin</th>\n",
       "      <th>ps_calc_19_bin</th>\n",
       "      <th>ps_calc_20_bin</th>\n",
       "    </tr>\n",
       "  </thead>\n",
       "  <tbody>\n",
       "    <tr>\n",
       "      <th>0</th>\n",
       "      <td>7</td>\n",
       "      <td>0</td>\n",
       "      <td>2</td>\n",
       "      <td>2</td>\n",
       "      <td>5</td>\n",
       "      <td>1</td>\n",
       "      <td>0</td>\n",
       "      <td>0</td>\n",
       "      <td>1</td>\n",
       "      <td>0</td>\n",
       "      <td>...</td>\n",
       "      <td>9</td>\n",
       "      <td>1</td>\n",
       "      <td>5</td>\n",
       "      <td>8</td>\n",
       "      <td>0</td>\n",
       "      <td>1</td>\n",
       "      <td>1</td>\n",
       "      <td>0</td>\n",
       "      <td>0</td>\n",
       "      <td>1</td>\n",
       "    </tr>\n",
       "    <tr>\n",
       "      <th>1</th>\n",
       "      <td>9</td>\n",
       "      <td>0</td>\n",
       "      <td>1</td>\n",
       "      <td>1</td>\n",
       "      <td>7</td>\n",
       "      <td>0</td>\n",
       "      <td>0</td>\n",
       "      <td>0</td>\n",
       "      <td>0</td>\n",
       "      <td>1</td>\n",
       "      <td>...</td>\n",
       "      <td>3</td>\n",
       "      <td>1</td>\n",
       "      <td>1</td>\n",
       "      <td>9</td>\n",
       "      <td>0</td>\n",
       "      <td>1</td>\n",
       "      <td>1</td>\n",
       "      <td>0</td>\n",
       "      <td>1</td>\n",
       "      <td>0</td>\n",
       "    </tr>\n",
       "    <tr>\n",
       "      <th>2</th>\n",
       "      <td>13</td>\n",
       "      <td>0</td>\n",
       "      <td>5</td>\n",
       "      <td>4</td>\n",
       "      <td>9</td>\n",
       "      <td>1</td>\n",
       "      <td>0</td>\n",
       "      <td>0</td>\n",
       "      <td>0</td>\n",
       "      <td>1</td>\n",
       "      <td>...</td>\n",
       "      <td>4</td>\n",
       "      <td>2</td>\n",
       "      <td>7</td>\n",
       "      <td>7</td>\n",
       "      <td>0</td>\n",
       "      <td>1</td>\n",
       "      <td>1</td>\n",
       "      <td>0</td>\n",
       "      <td>1</td>\n",
       "      <td>0</td>\n",
       "    </tr>\n",
       "    <tr>\n",
       "      <th>3</th>\n",
       "      <td>16</td>\n",
       "      <td>0</td>\n",
       "      <td>0</td>\n",
       "      <td>1</td>\n",
       "      <td>2</td>\n",
       "      <td>0</td>\n",
       "      <td>0</td>\n",
       "      <td>1</td>\n",
       "      <td>0</td>\n",
       "      <td>0</td>\n",
       "      <td>...</td>\n",
       "      <td>2</td>\n",
       "      <td>2</td>\n",
       "      <td>4</td>\n",
       "      <td>9</td>\n",
       "      <td>0</td>\n",
       "      <td>0</td>\n",
       "      <td>0</td>\n",
       "      <td>0</td>\n",
       "      <td>0</td>\n",
       "      <td>0</td>\n",
       "    </tr>\n",
       "    <tr>\n",
       "      <th>4</th>\n",
       "      <td>17</td>\n",
       "      <td>0</td>\n",
       "      <td>0</td>\n",
       "      <td>2</td>\n",
       "      <td>0</td>\n",
       "      <td>1</td>\n",
       "      <td>0</td>\n",
       "      <td>1</td>\n",
       "      <td>0</td>\n",
       "      <td>0</td>\n",
       "      <td>...</td>\n",
       "      <td>3</td>\n",
       "      <td>1</td>\n",
       "      <td>1</td>\n",
       "      <td>3</td>\n",
       "      <td>0</td>\n",
       "      <td>0</td>\n",
       "      <td>0</td>\n",
       "      <td>1</td>\n",
       "      <td>1</td>\n",
       "      <td>0</td>\n",
       "    </tr>\n",
       "  </tbody>\n",
       "</table>\n",
       "<p>5 rows × 59 columns</p>\n",
       "</div>"
      ],
      "text/plain": [
       "   id  target  ps_ind_01  ps_ind_02_cat  ps_ind_03  ps_ind_04_cat  \\\n",
       "0   7       0          2              2          5              1   \n",
       "1   9       0          1              1          7              0   \n",
       "2  13       0          5              4          9              1   \n",
       "3  16       0          0              1          2              0   \n",
       "4  17       0          0              2          0              1   \n",
       "\n",
       "   ps_ind_05_cat  ps_ind_06_bin  ps_ind_07_bin  ps_ind_08_bin  ...  \\\n",
       "0              0              0              1              0  ...   \n",
       "1              0              0              0              1  ...   \n",
       "2              0              0              0              1  ...   \n",
       "3              0              1              0              0  ...   \n",
       "4              0              1              0              0  ...   \n",
       "\n",
       "   ps_calc_11  ps_calc_12  ps_calc_13  ps_calc_14  ps_calc_15_bin  \\\n",
       "0           9           1           5           8               0   \n",
       "1           3           1           1           9               0   \n",
       "2           4           2           7           7               0   \n",
       "3           2           2           4           9               0   \n",
       "4           3           1           1           3               0   \n",
       "\n",
       "   ps_calc_16_bin  ps_calc_17_bin  ps_calc_18_bin  ps_calc_19_bin  \\\n",
       "0               1               1               0               0   \n",
       "1               1               1               0               1   \n",
       "2               1               1               0               1   \n",
       "3               0               0               0               0   \n",
       "4               0               0               1               1   \n",
       "\n",
       "   ps_calc_20_bin  \n",
       "0               1  \n",
       "1               0  \n",
       "2               0  \n",
       "3               0  \n",
       "4               0  \n",
       "\n",
       "[5 rows x 59 columns]"
      ]
     },
     "execution_count": 2,
     "metadata": {},
     "output_type": "execute_result"
    }
   ],
   "source": [
    "# read in data\n",
    "df = pd.read_csv('G:/M/Machine Learning/Adv ML/Class Imbalance Problem/train.csv')\n",
    "print(df.shape)\n",
    "df.head()"
   ]
  },
  {
   "cell_type": "markdown",
   "metadata": {},
   "source": [
    "We notice that categorical features have integer values. For eg In ps_ind_02_cat we can see that values are 1, 2, 4..\n",
    "Now lets check if the dataset has any duplicates."
   ]
  },
  {
   "cell_type": "code",
   "execution_count": 3,
   "metadata": {},
   "outputs": [
    {
     "data": {
      "text/plain": [
       "(595212, 59)"
      ]
     },
     "execution_count": 3,
     "metadata": {},
     "output_type": "execute_result"
    }
   ],
   "source": [
    "df.drop_duplicates()\n",
    "df.shape"
   ]
  },
  {
   "cell_type": "markdown",
   "metadata": {},
   "source": [
    "No duplicates. Now lets see data types."
   ]
  },
  {
   "cell_type": "code",
   "execution_count": 4,
   "metadata": {},
   "outputs": [
    {
     "name": "stdout",
     "output_type": "stream",
     "text": [
      "<class 'pandas.core.frame.DataFrame'>\n",
      "RangeIndex: 595212 entries, 0 to 595211\n",
      "Data columns (total 59 columns):\n",
      "id                595212 non-null int64\n",
      "target            595212 non-null int64\n",
      "ps_ind_01         595212 non-null int64\n",
      "ps_ind_02_cat     595212 non-null int64\n",
      "ps_ind_03         595212 non-null int64\n",
      "ps_ind_04_cat     595212 non-null int64\n",
      "ps_ind_05_cat     595212 non-null int64\n",
      "ps_ind_06_bin     595212 non-null int64\n",
      "ps_ind_07_bin     595212 non-null int64\n",
      "ps_ind_08_bin     595212 non-null int64\n",
      "ps_ind_09_bin     595212 non-null int64\n",
      "ps_ind_10_bin     595212 non-null int64\n",
      "ps_ind_11_bin     595212 non-null int64\n",
      "ps_ind_12_bin     595212 non-null int64\n",
      "ps_ind_13_bin     595212 non-null int64\n",
      "ps_ind_14         595212 non-null int64\n",
      "ps_ind_15         595212 non-null int64\n",
      "ps_ind_16_bin     595212 non-null int64\n",
      "ps_ind_17_bin     595212 non-null int64\n",
      "ps_ind_18_bin     595212 non-null int64\n",
      "ps_reg_01         595212 non-null float64\n",
      "ps_reg_02         595212 non-null float64\n",
      "ps_reg_03         595212 non-null float64\n",
      "ps_car_01_cat     595212 non-null int64\n",
      "ps_car_02_cat     595212 non-null int64\n",
      "ps_car_03_cat     595212 non-null int64\n",
      "ps_car_04_cat     595212 non-null int64\n",
      "ps_car_05_cat     595212 non-null int64\n",
      "ps_car_06_cat     595212 non-null int64\n",
      "ps_car_07_cat     595212 non-null int64\n",
      "ps_car_08_cat     595212 non-null int64\n",
      "ps_car_09_cat     595212 non-null int64\n",
      "ps_car_10_cat     595212 non-null int64\n",
      "ps_car_11_cat     595212 non-null int64\n",
      "ps_car_11         595212 non-null int64\n",
      "ps_car_12         595212 non-null float64\n",
      "ps_car_13         595212 non-null float64\n",
      "ps_car_14         595212 non-null float64\n",
      "ps_car_15         595212 non-null float64\n",
      "ps_calc_01        595212 non-null float64\n",
      "ps_calc_02        595212 non-null float64\n",
      "ps_calc_03        595212 non-null float64\n",
      "ps_calc_04        595212 non-null int64\n",
      "ps_calc_05        595212 non-null int64\n",
      "ps_calc_06        595212 non-null int64\n",
      "ps_calc_07        595212 non-null int64\n",
      "ps_calc_08        595212 non-null int64\n",
      "ps_calc_09        595212 non-null int64\n",
      "ps_calc_10        595212 non-null int64\n",
      "ps_calc_11        595212 non-null int64\n",
      "ps_calc_12        595212 non-null int64\n",
      "ps_calc_13        595212 non-null int64\n",
      "ps_calc_14        595212 non-null int64\n",
      "ps_calc_15_bin    595212 non-null int64\n",
      "ps_calc_16_bin    595212 non-null int64\n",
      "ps_calc_17_bin    595212 non-null int64\n",
      "ps_calc_18_bin    595212 non-null int64\n",
      "ps_calc_19_bin    595212 non-null int64\n",
      "ps_calc_20_bin    595212 non-null int64\n",
      "dtypes: float64(10), int64(49)\n",
      "memory usage: 267.9 MB\n"
     ]
    }
   ],
   "source": [
    "df.info()"
   ]
  },
  {
   "cell_type": "markdown",
   "metadata": {},
   "source": [
    "No null values are present because null values are replaced by -1. Also, we can see two data types - int and float. Lets see missing value status and treat them."
   ]
  },
  {
   "cell_type": "code",
   "execution_count": 5,
   "metadata": {},
   "outputs": [
    {
     "name": "stdout",
     "output_type": "stream",
     "text": [
      "ps_ind_02_cat has 216 obs (0.04%) missing\n",
      "ps_ind_04_cat has 83 obs (0.01%) missing\n",
      "ps_ind_05_cat has 5809 obs (0.98%) missing\n",
      "ps_reg_03 has 107772 obs (18.11%) missing\n",
      "ps_car_01_cat has 107 obs (0.02%) missing\n",
      "ps_car_02_cat has 5 obs (0.00%) missing\n",
      "ps_car_03_cat has 411231 obs (69.09%) missing\n",
      "ps_car_05_cat has 266551 obs (44.78%) missing\n",
      "ps_car_07_cat has 11489 obs (1.93%) missing\n",
      "ps_car_09_cat has 569 obs (0.10%) missing\n",
      "ps_car_11 has 5 obs (0.00%) missing\n",
      "ps_car_12 has 1 obs (0.00%) missing\n",
      "ps_car_14 has 42620 obs (7.16%) missing\n"
     ]
    }
   ],
   "source": [
    "# finding missing values\n",
    "missing_obs = []\n",
    "\n",
    "for i in df.columns:\n",
    "    nulls = df[df[i] == -1][i].count()\n",
    "    if nulls > 0:\n",
    "        missing_obs.append(i)\n",
    "        nulls_perc = nulls/df.shape[0]\n",
    "        \n",
    "        print('{} has {} obs ({:.2%}) missing'.format(i, nulls, nulls_perc))"
   ]
  },
  {
   "cell_type": "markdown",
   "metadata": {},
   "source": [
    "Observations on missing values: - ps_car_03_cat and ps_car_05_cat have large missing values. Therefore we will drop these variables from the dataset. Other variables we will try to impute it. So lets drop and impute. "
   ]
  },
  {
   "cell_type": "code",
   "execution_count": 6,
   "metadata": {},
   "outputs": [
    {
     "data": {
      "text/plain": [
       "(595212, 57)"
      ]
     },
     "execution_count": 6,
     "metadata": {},
     "output_type": "execute_result"
    }
   ],
   "source": [
    "# dropping columns with high missing values\n",
    "df = df.drop(columns=['ps_car_03_cat', 'ps_car_05_cat'])\n",
    "df.shape"
   ]
  },
  {
   "cell_type": "code",
   "execution_count": 7,
   "metadata": {},
   "outputs": [],
   "source": [
    "# Imputing with the mean or mode\n",
    "from sklearn.impute import SimpleImputer\n",
    "mean_imputation = SimpleImputer(missing_values=-1, strategy='mean')\n",
    "mode_imputation = SimpleImputer(missing_values=-1, strategy='most_frequent')\n",
    "df['ps_reg_03'] = mean_imputation.fit_transform(df[['ps_reg_03']]).ravel()\n",
    "df['ps_car_12'] = mean_imputation.fit_transform(df[['ps_car_12']]).ravel()\n",
    "df['ps_car_14'] = mean_imputation.fit_transform(df[['ps_car_14']]).ravel()\n",
    "df['ps_car_11'] = mode_imputation.fit_transform(df[['ps_car_11']]).ravel()\n",
    "df['ps_ind_02_cat'] = mode_imputation.fit_transform(df[['ps_ind_02_cat']]).ravel()\n",
    "df['ps_ind_04_cat'] = mode_imputation.fit_transform(df[['ps_ind_04_cat']]).ravel()\n",
    "df['ps_ind_05_cat'] = mode_imputation.fit_transform(df[['ps_ind_05_cat']]).ravel()\n",
    "df['ps_car_01_cat'] = mode_imputation.fit_transform(df[['ps_car_01_cat']]).ravel()\n",
    "df['ps_car_02_cat'] = mode_imputation.fit_transform(df[['ps_car_02_cat']]).ravel()\n",
    "df['ps_car_07_cat'] = mode_imputation.fit_transform(df[['ps_car_07_cat']]).ravel()\n",
    "df['ps_car_09_cat'] = mode_imputation.fit_transform(df[['ps_car_09_cat']]).ravel()"
   ]
  },
  {
   "cell_type": "markdown",
   "metadata": {},
   "source": [
    "Cardinality of the categorical variables\n",
    "\n",
    "We need to check whether there are variables with many distinct values. We should handle these variables differently as they would result in many dummy variables."
   ]
  },
  {
   "cell_type": "code",
   "execution_count": 8,
   "metadata": {},
   "outputs": [
    {
     "name": "stdout",
     "output_type": "stream",
     "text": [
      "ps_ind_02_cat has 4 unique values\n",
      "ps_ind_04_cat has 2 unique values\n",
      "ps_ind_05_cat has 7 unique values\n",
      "ps_car_01_cat has 12 unique values\n",
      "ps_car_02_cat has 2 unique values\n",
      "ps_car_04_cat has 10 unique values\n",
      "ps_car_06_cat has 18 unique values\n",
      "ps_car_07_cat has 2 unique values\n",
      "ps_car_08_cat has 2 unique values\n",
      "ps_car_09_cat has 5 unique values\n",
      "ps_car_10_cat has 3 unique values\n",
      "ps_car_11_cat has 104 unique values\n"
     ]
    }
   ],
   "source": [
    "# checking cardinality of categorical vars\n",
    "cols_with_cardinality = ['ps_ind_02_cat','ps_ind_04_cat','ps_ind_05_cat','ps_car_01_cat','ps_car_02_cat','ps_car_04_cat',\n",
    "                         'ps_car_06_cat','ps_car_07_cat','ps_car_08_cat','ps_car_09_cat','ps_car_10_cat','ps_car_11_cat']\n",
    "\n",
    "for i in cols_with_cardinality:\n",
    "    unique_categories = df[i].value_counts().shape[0]\n",
    "    print('{} has {} unique values'.format(i, unique_categories))"
   ]
  },
  {
   "cell_type": "markdown",
   "metadata": {},
   "source": [
    "As we can see ps_car_11_cat has 104 distinct values. Lets try to do some feature engineering and will also see how do we deal with ps_car_11_cat."
   ]
  },
  {
   "cell_type": "markdown",
   "metadata": {},
   "source": [
    "# Exploratory Data Analysis"
   ]
  },
  {
   "cell_type": "code",
   "execution_count": 9,
   "metadata": {},
   "outputs": [
    {
     "data": {
      "text/plain": [
       "(595212, 57)"
      ]
     },
     "execution_count": 9,
     "metadata": {},
     "output_type": "execute_result"
    }
   ],
   "source": [
    "df.shape"
   ]
  },
  {
   "cell_type": "code",
   "execution_count": 10,
   "metadata": {},
   "outputs": [
    {
     "data": {
      "text/plain": [
       "<matplotlib.axes._subplots.AxesSubplot at 0x256dc9c3f60>"
      ]
     },
     "execution_count": 10,
     "metadata": {},
     "output_type": "execute_result"
    },
    {
     "data": {
      "image/png": "[encoded data removed]",
      "text/plain": [
       "<Figure size 1440x1440 with 2 Axes>"
      ]
     },
     "metadata": {},
     "output_type": "display_data"
    }
   ],
   "source": [
    "# check correlation of continuous vars with target\n",
    "conti_cols = ['ps_reg_01','ps_reg_02','ps_reg_03','ps_car_12','ps_car_13','ps_car_14','ps_car_15','ps_calc_01','ps_calc_02',\n",
    "     'ps_calc_03','target']\n",
    "\n",
    "# Finding out the correlation between the features\n",
    "conti_cols_corr = df[conti_cols].corr()\n",
    "\n",
    "# Plotting the heatmap of correlation between features\n",
    "plt.figure(figsize=(20,20))\n",
    "sns.heatmap(conti_cols_corr, cbar=True, square= True, fmt='.2f', annot=True, annot_kws={'size':15}, cmap='Greens')"
   ]
  },
  {
   "cell_type": "markdown",
   "metadata": {},
   "source": [
    "There are a strong correlations between the variables ps_reg_02 and ps_reg_03, ps_car_12 and ps_car13, ps_car_12 and ps_car14 and ps_car_13 and ps_car15."
   ]
  },
  {
   "cell_type": "code",
   "execution_count": 11,
   "metadata": {},
   "outputs": [
    {
     "data": {
      "text/plain": [
       "<matplotlib.axes._subplots.AxesSubplot at 0x25683ad0a90>"
      ]
     },
     "execution_count": 11,
     "metadata": {},
     "output_type": "execute_result"
    },
    {
     "data": {
      "image/png": "[encoded data removed]",
      "text/plain": [
       "<Figure size 1440x1440 with 2 Axes>"
      ]
     },
     "metadata": {},
     "output_type": "display_data"
    }
   ],
   "source": [
    "# check correlation of ordinal vars with target\n",
    "ord_cols = ['ps_ind_01','ps_ind_03','ps_ind_14','ps_ind_15','ps_car_11','ps_calc_04','ps_calc_05','ps_calc_06','ps_calc_07',\n",
    "     'ps_calc_08','ps_calc_09','ps_calc_10','ps_calc_11','ps_calc_12','ps_calc_13','ps_calc_14','target']\n",
    "\n",
    "# Finding out the correlation between the features\n",
    "ord_cols_corr = df[ord_cols].corr()\n",
    "\n",
    "# Plotting the heatmap of correlation between features\n",
    "plt.figure(figsize=(20,20))\n",
    "sns.heatmap(ord_cols_corr, cbar=True, square= True, fmt='.2f', annot=True, annot_kws={'size':15}, cmap='Greens')"
   ]
  },
  {
   "cell_type": "markdown",
   "metadata": {},
   "source": [
    "For the ordinal variables we do not see many correlations. Variables with calc has no correlations."
   ]
  },
  {
   "cell_type": "markdown",
   "metadata": {},
   "source": [
    "# Feature Engineering"
   ]
  },
  {
   "cell_type": "markdown",
   "metadata": {},
   "source": [
    "We will deal with categorial features and do categorical encoding.\n",
    "\n",
    "1. Label encoding\n",
    "2. Frequency encoding\n",
    "3. One-Hot encoding"
   ]
  },
  {
   "cell_type": "markdown",
   "metadata": {},
   "source": [
    "1. Label encoding\n",
    "\n",
    "Label encoding is simply converting each value in a column to a number. We can see that categorical variables in our dataset has numbers. Therefore it might already been converted to label encoding. \n",
    "\n",
    "For e.g. we have '0', '1', '2' representing different classes of some car related concepts like 'FWD', 'RWD', '4WD' for drive types. It is a nice way to represent information that is not in numeric format - since most ML algorthims prefer number over string. \n",
    "\n",
    "This does present a problem, as you can imagine, there isn't necessary a logical order to rank different drive types from 'FF' to '4DW in an ordinal manner i.e. '0','1','2'. Now that we encoding them in such a way, we have actually manually imposed such an ordinal logic which doesn't necessary exist within the observations.\n",
    "\n",
    "Let's apply some tricks present them in a non-ordinal way, here we are going to use \"frequency encoding\" and \"one-hot encoding\""
   ]
  },
  {
   "cell_type": "markdown",
   "metadata": {},
   "source": [
    "2. Frequency encoding"
   ]
  },
  {
   "cell_type": "markdown",
   "metadata": {},
   "source": [
    "The idea behind frequency encoding is to represent the levels within a categorical features with the frequency they are observe in a dataset. One of the reaons of doing this is more frequently observed level often behave in a similar way - but this is not always true."
   ]
  },
  {
   "cell_type": "code",
   "execution_count": 12,
   "metadata": {},
   "outputs": [
    {
     "data": {
      "text/html": [
       "<div>\n",
       "<style scoped>\n",
       "    .dataframe tbody tr th:only-of-type {\n",
       "        vertical-align: middle;\n",
       "    }\n",
       "\n",
       "    .dataframe tbody tr th {\n",
       "        vertical-align: top;\n",
       "    }\n",
       "\n",
       "    .dataframe thead th {\n",
       "        text-align: right;\n",
       "    }\n",
       "</style>\n",
       "<table border=\"1\" class=\"dataframe\">\n",
       "  <thead>\n",
       "    <tr style=\"text-align: right;\">\n",
       "      <th></th>\n",
       "      <th>id</th>\n",
       "      <th>target</th>\n",
       "      <th>ps_ind_01</th>\n",
       "      <th>ps_ind_02_cat</th>\n",
       "      <th>ps_ind_03</th>\n",
       "      <th>ps_ind_04_cat</th>\n",
       "      <th>ps_ind_05_cat</th>\n",
       "      <th>ps_ind_06_bin</th>\n",
       "      <th>ps_ind_07_bin</th>\n",
       "      <th>ps_ind_08_bin</th>\n",
       "      <th>...</th>\n",
       "      <th>ps_calc_12</th>\n",
       "      <th>ps_calc_13</th>\n",
       "      <th>ps_calc_14</th>\n",
       "      <th>ps_calc_15_bin</th>\n",
       "      <th>ps_calc_16_bin</th>\n",
       "      <th>ps_calc_17_bin</th>\n",
       "      <th>ps_calc_18_bin</th>\n",
       "      <th>ps_calc_19_bin</th>\n",
       "      <th>ps_calc_20_bin</th>\n",
       "      <th>ps_ind_02_cat_freq</th>\n",
       "    </tr>\n",
       "  </thead>\n",
       "  <tbody>\n",
       "    <tr>\n",
       "      <th>0</th>\n",
       "      <td>7</td>\n",
       "      <td>0</td>\n",
       "      <td>2</td>\n",
       "      <td>2</td>\n",
       "      <td>5</td>\n",
       "      <td>1</td>\n",
       "      <td>0</td>\n",
       "      <td>0</td>\n",
       "      <td>1</td>\n",
       "      <td>0</td>\n",
       "      <td>...</td>\n",
       "      <td>1</td>\n",
       "      <td>5</td>\n",
       "      <td>8</td>\n",
       "      <td>0</td>\n",
       "      <td>1</td>\n",
       "      <td>1</td>\n",
       "      <td>0</td>\n",
       "      <td>0</td>\n",
       "      <td>1</td>\n",
       "      <td>0.207612</td>\n",
       "    </tr>\n",
       "    <tr>\n",
       "      <th>1</th>\n",
       "      <td>9</td>\n",
       "      <td>0</td>\n",
       "      <td>1</td>\n",
       "      <td>1</td>\n",
       "      <td>7</td>\n",
       "      <td>0</td>\n",
       "      <td>0</td>\n",
       "      <td>0</td>\n",
       "      <td>0</td>\n",
       "      <td>1</td>\n",
       "      <td>...</td>\n",
       "      <td>1</td>\n",
       "      <td>1</td>\n",
       "      <td>9</td>\n",
       "      <td>0</td>\n",
       "      <td>1</td>\n",
       "      <td>1</td>\n",
       "      <td>0</td>\n",
       "      <td>1</td>\n",
       "      <td>0</td>\n",
       "      <td>0.725918</td>\n",
       "    </tr>\n",
       "    <tr>\n",
       "      <th>2</th>\n",
       "      <td>13</td>\n",
       "      <td>0</td>\n",
       "      <td>5</td>\n",
       "      <td>4</td>\n",
       "      <td>9</td>\n",
       "      <td>1</td>\n",
       "      <td>0</td>\n",
       "      <td>0</td>\n",
       "      <td>0</td>\n",
       "      <td>1</td>\n",
       "      <td>...</td>\n",
       "      <td>2</td>\n",
       "      <td>7</td>\n",
       "      <td>7</td>\n",
       "      <td>0</td>\n",
       "      <td>1</td>\n",
       "      <td>1</td>\n",
       "      <td>0</td>\n",
       "      <td>1</td>\n",
       "      <td>0</td>\n",
       "      <td>0.019116</td>\n",
       "    </tr>\n",
       "    <tr>\n",
       "      <th>3</th>\n",
       "      <td>16</td>\n",
       "      <td>0</td>\n",
       "      <td>0</td>\n",
       "      <td>1</td>\n",
       "      <td>2</td>\n",
       "      <td>0</td>\n",
       "      <td>0</td>\n",
       "      <td>1</td>\n",
       "      <td>0</td>\n",
       "      <td>0</td>\n",
       "      <td>...</td>\n",
       "      <td>2</td>\n",
       "      <td>4</td>\n",
       "      <td>9</td>\n",
       "      <td>0</td>\n",
       "      <td>0</td>\n",
       "      <td>0</td>\n",
       "      <td>0</td>\n",
       "      <td>0</td>\n",
       "      <td>0</td>\n",
       "      <td>0.725918</td>\n",
       "    </tr>\n",
       "    <tr>\n",
       "      <th>4</th>\n",
       "      <td>17</td>\n",
       "      <td>0</td>\n",
       "      <td>0</td>\n",
       "      <td>2</td>\n",
       "      <td>0</td>\n",
       "      <td>1</td>\n",
       "      <td>0</td>\n",
       "      <td>1</td>\n",
       "      <td>0</td>\n",
       "      <td>0</td>\n",
       "      <td>...</td>\n",
       "      <td>1</td>\n",
       "      <td>1</td>\n",
       "      <td>3</td>\n",
       "      <td>0</td>\n",
       "      <td>0</td>\n",
       "      <td>0</td>\n",
       "      <td>1</td>\n",
       "      <td>1</td>\n",
       "      <td>0</td>\n",
       "      <td>0.207612</td>\n",
       "    </tr>\n",
       "  </tbody>\n",
       "</table>\n",
       "<p>5 rows × 58 columns</p>\n",
       "</div>"
      ],
      "text/plain": [
       "   id  target  ps_ind_01  ps_ind_02_cat  ps_ind_03  ps_ind_04_cat  \\\n",
       "0   7       0          2              2          5              1   \n",
       "1   9       0          1              1          7              0   \n",
       "2  13       0          5              4          9              1   \n",
       "3  16       0          0              1          2              0   \n",
       "4  17       0          0              2          0              1   \n",
       "\n",
       "   ps_ind_05_cat  ps_ind_06_bin  ps_ind_07_bin  ps_ind_08_bin  \\\n",
       "0              0              0              1              0   \n",
       "1              0              0              0              1   \n",
       "2              0              0              0              1   \n",
       "3              0              1              0              0   \n",
       "4              0              1              0              0   \n",
       "\n",
       "          ...          ps_calc_12  ps_calc_13  ps_calc_14  ps_calc_15_bin  \\\n",
       "0         ...                   1           5           8               0   \n",
       "1         ...                   1           1           9               0   \n",
       "2         ...                   2           7           7               0   \n",
       "3         ...                   2           4           9               0   \n",
       "4         ...                   1           1           3               0   \n",
       "\n",
       "   ps_calc_16_bin  ps_calc_17_bin  ps_calc_18_bin  ps_calc_19_bin  \\\n",
       "0               1               1               0               0   \n",
       "1               1               1               0               1   \n",
       "2               1               1               0               1   \n",
       "3               0               0               0               0   \n",
       "4               0               0               1               1   \n",
       "\n",
       "   ps_calc_20_bin  ps_ind_02_cat_freq  \n",
       "0               1            0.207612  \n",
       "1               0            0.725918  \n",
       "2               0            0.019116  \n",
       "3               0            0.725918  \n",
       "4               0            0.207612  \n",
       "\n",
       "[5 rows x 58 columns]"
      ]
     },
     "execution_count": 12,
     "metadata": {},
     "output_type": "execute_result"
    }
   ],
   "source": [
    "# frequency encoding\n",
    "cat = ['ps_ind_02_cat','ps_ind_04_cat','ps_ind_05_cat','ps_car_01_cat','ps_car_02_cat','ps_car_04_cat','ps_car_06_cat',\n",
    "    'ps_car_07_cat','ps_car_08_cat','ps_car_09_cat','ps_car_10_cat','ps_car_11_cat']\n",
    "\n",
    "df_freq = df\n",
    "freq_enc = df_freq.groupby('ps_ind_02_cat').size()/len(df_freq)\n",
    "df_freq.loc[:, 'ps_ind_02_cat_freq'] = df_freq['ps_ind_02_cat'].map(freq_enc)\n",
    "df_freq.head()"
   ]
  },
  {
   "cell_type": "markdown",
   "metadata": {},
   "source": [
    "3. One-Hot Encoding\n",
    "\n",
    "In this method, we map each category to a vector that contains 1 and 0 denoting the presence or absence of the feature. The number of vectors depends on the number of categories for features. This method produces a lot of columns that slows down the learning significantly if the number of the category is very high for the feature. Pandas has get_dummies function, which is quite easy to use. "
   ]
  },
  {
   "cell_type": "code",
   "execution_count": 13,
   "metadata": {},
   "outputs": [
    {
     "name": "stdout",
     "output_type": "stream",
     "text": [
      "Before ohe we have 58 features in train\n",
      "After ohe we have 205 features in train\n"
     ]
    }
   ],
   "source": [
    "ohe_cols = ['ps_ind_02_cat','ps_ind_04_cat','ps_ind_05_cat','ps_car_01_cat','ps_car_02_cat','ps_car_04_cat','ps_car_06_cat',\n",
    "    'ps_car_07_cat','ps_car_08_cat','ps_car_09_cat','ps_car_10_cat','ps_car_11_cat']\n",
    "\n",
    "print('Before ohe we have {} features in train'.format(df.shape[1]))\n",
    "df_ohe = pd.get_dummies(df, columns=ohe_cols, drop_first=True)\n",
    "print('After ohe we have {} features in train'.format(df_ohe.shape[1]))"
   ]
  },
  {
   "cell_type": "markdown",
   "metadata": {},
   "source": [
    "Observations on categorical encoding:-\n",
    "\n",
    "1. Curse of Dimensionality: - As we can see that we have lots of new features now. If we try to dig deeper we can understand that we can see that ps_car_11_cat had 104 distinct values which would make the higher number of features. For a feature with 3 levels we might be ok, but for a feature like \"ps_car_11_cat\" are are introducing 100+ column into a original data set with 50 columns. By doing this we more than triple the size of the dataset, and this spells trouble for machine learning due to \"the curse of dimensionality\".\n",
    "\n",
    "\n",
    "2. Dummy Trap: - We drop the first dummy variable as this information can be derived from the other dummy variables generated for the categories of the original variable. If we don't drop it we will have a problem of \"DUMMY TRAP\"."
   ]
  },
  {
   "cell_type": "code",
   "execution_count": 14,
   "metadata": {},
   "outputs": [
    {
     "name": "stdout",
     "output_type": "stream",
     "text": [
      "Before ohe we have 58 features in train\n",
      "After ohe we have 103 features in train\n"
     ]
    }
   ],
   "source": [
    "ohe_cols_new = ['ps_ind_02_cat','ps_ind_04_cat','ps_ind_05_cat','ps_car_01_cat','ps_car_02_cat','ps_car_04_cat','ps_car_06_cat',\n",
    "    'ps_car_07_cat','ps_car_08_cat','ps_car_09_cat','ps_car_10_cat']\n",
    "\n",
    "print('Before ohe we have {} features in train'.format(df.shape[1]))\n",
    "df = pd.get_dummies(df, columns=ohe_cols_new, drop_first=True)\n",
    "print('After ohe we have {} features in train'.format(df.shape[1]))"
   ]
  },
  {
   "cell_type": "code",
   "execution_count": 15,
   "metadata": {},
   "outputs": [
    {
     "data": {
      "text/html": [
       "<div>\n",
       "<style scoped>\n",
       "    .dataframe tbody tr th:only-of-type {\n",
       "        vertical-align: middle;\n",
       "    }\n",
       "\n",
       "    .dataframe tbody tr th {\n",
       "        vertical-align: top;\n",
       "    }\n",
       "\n",
       "    .dataframe thead th {\n",
       "        text-align: right;\n",
       "    }\n",
       "</style>\n",
       "<table border=\"1\" class=\"dataframe\">\n",
       "  <thead>\n",
       "    <tr style=\"text-align: right;\">\n",
       "      <th></th>\n",
       "      <th>id</th>\n",
       "      <th>target</th>\n",
       "      <th>ps_ind_01</th>\n",
       "      <th>ps_ind_03</th>\n",
       "      <th>ps_ind_06_bin</th>\n",
       "      <th>ps_ind_07_bin</th>\n",
       "      <th>ps_ind_08_bin</th>\n",
       "      <th>ps_ind_09_bin</th>\n",
       "      <th>ps_ind_10_bin</th>\n",
       "      <th>ps_ind_11_bin</th>\n",
       "      <th>...</th>\n",
       "      <th>ps_car_06_cat_16</th>\n",
       "      <th>ps_car_06_cat_17</th>\n",
       "      <th>ps_car_07_cat_1</th>\n",
       "      <th>ps_car_08_cat_1</th>\n",
       "      <th>ps_car_09_cat_1</th>\n",
       "      <th>ps_car_09_cat_2</th>\n",
       "      <th>ps_car_09_cat_3</th>\n",
       "      <th>ps_car_09_cat_4</th>\n",
       "      <th>ps_car_10_cat_1</th>\n",
       "      <th>ps_car_10_cat_2</th>\n",
       "    </tr>\n",
       "  </thead>\n",
       "  <tbody>\n",
       "    <tr>\n",
       "      <th>0</th>\n",
       "      <td>7</td>\n",
       "      <td>0</td>\n",
       "      <td>2</td>\n",
       "      <td>5</td>\n",
       "      <td>0</td>\n",
       "      <td>1</td>\n",
       "      <td>0</td>\n",
       "      <td>0</td>\n",
       "      <td>0</td>\n",
       "      <td>0</td>\n",
       "      <td>...</td>\n",
       "      <td>0</td>\n",
       "      <td>0</td>\n",
       "      <td>1</td>\n",
       "      <td>0</td>\n",
       "      <td>0</td>\n",
       "      <td>0</td>\n",
       "      <td>0</td>\n",
       "      <td>0</td>\n",
       "      <td>1</td>\n",
       "      <td>0</td>\n",
       "    </tr>\n",
       "    <tr>\n",
       "      <th>1</th>\n",
       "      <td>9</td>\n",
       "      <td>0</td>\n",
       "      <td>1</td>\n",
       "      <td>7</td>\n",
       "      <td>0</td>\n",
       "      <td>0</td>\n",
       "      <td>1</td>\n",
       "      <td>0</td>\n",
       "      <td>0</td>\n",
       "      <td>0</td>\n",
       "      <td>...</td>\n",
       "      <td>0</td>\n",
       "      <td>0</td>\n",
       "      <td>1</td>\n",
       "      <td>1</td>\n",
       "      <td>0</td>\n",
       "      <td>1</td>\n",
       "      <td>0</td>\n",
       "      <td>0</td>\n",
       "      <td>1</td>\n",
       "      <td>0</td>\n",
       "    </tr>\n",
       "    <tr>\n",
       "      <th>2</th>\n",
       "      <td>13</td>\n",
       "      <td>0</td>\n",
       "      <td>5</td>\n",
       "      <td>9</td>\n",
       "      <td>0</td>\n",
       "      <td>0</td>\n",
       "      <td>1</td>\n",
       "      <td>0</td>\n",
       "      <td>0</td>\n",
       "      <td>0</td>\n",
       "      <td>...</td>\n",
       "      <td>0</td>\n",
       "      <td>0</td>\n",
       "      <td>1</td>\n",
       "      <td>1</td>\n",
       "      <td>0</td>\n",
       "      <td>1</td>\n",
       "      <td>0</td>\n",
       "      <td>0</td>\n",
       "      <td>1</td>\n",
       "      <td>0</td>\n",
       "    </tr>\n",
       "    <tr>\n",
       "      <th>3</th>\n",
       "      <td>16</td>\n",
       "      <td>0</td>\n",
       "      <td>0</td>\n",
       "      <td>2</td>\n",
       "      <td>1</td>\n",
       "      <td>0</td>\n",
       "      <td>0</td>\n",
       "      <td>0</td>\n",
       "      <td>0</td>\n",
       "      <td>0</td>\n",
       "      <td>...</td>\n",
       "      <td>0</td>\n",
       "      <td>0</td>\n",
       "      <td>1</td>\n",
       "      <td>1</td>\n",
       "      <td>0</td>\n",
       "      <td>0</td>\n",
       "      <td>1</td>\n",
       "      <td>0</td>\n",
       "      <td>1</td>\n",
       "      <td>0</td>\n",
       "    </tr>\n",
       "    <tr>\n",
       "      <th>4</th>\n",
       "      <td>17</td>\n",
       "      <td>0</td>\n",
       "      <td>0</td>\n",
       "      <td>0</td>\n",
       "      <td>1</td>\n",
       "      <td>0</td>\n",
       "      <td>0</td>\n",
       "      <td>0</td>\n",
       "      <td>0</td>\n",
       "      <td>0</td>\n",
       "      <td>...</td>\n",
       "      <td>0</td>\n",
       "      <td>0</td>\n",
       "      <td>1</td>\n",
       "      <td>1</td>\n",
       "      <td>0</td>\n",
       "      <td>1</td>\n",
       "      <td>0</td>\n",
       "      <td>0</td>\n",
       "      <td>1</td>\n",
       "      <td>0</td>\n",
       "    </tr>\n",
       "  </tbody>\n",
       "</table>\n",
       "<p>5 rows × 103 columns</p>\n",
       "</div>"
      ],
      "text/plain": [
       "   id  target  ps_ind_01  ps_ind_03  ps_ind_06_bin  ps_ind_07_bin  \\\n",
       "0   7       0          2          5              0              1   \n",
       "1   9       0          1          7              0              0   \n",
       "2  13       0          5          9              0              0   \n",
       "3  16       0          0          2              1              0   \n",
       "4  17       0          0          0              1              0   \n",
       "\n",
       "   ps_ind_08_bin  ps_ind_09_bin  ps_ind_10_bin  ps_ind_11_bin  \\\n",
       "0              0              0              0              0   \n",
       "1              1              0              0              0   \n",
       "2              1              0              0              0   \n",
       "3              0              0              0              0   \n",
       "4              0              0              0              0   \n",
       "\n",
       "        ...         ps_car_06_cat_16  ps_car_06_cat_17  ps_car_07_cat_1  \\\n",
       "0       ...                        0                 0                1   \n",
       "1       ...                        0                 0                1   \n",
       "2       ...                        0                 0                1   \n",
       "3       ...                        0                 0                1   \n",
       "4       ...                        0                 0                1   \n",
       "\n",
       "   ps_car_08_cat_1  ps_car_09_cat_1  ps_car_09_cat_2  ps_car_09_cat_3  \\\n",
       "0                0                0                0                0   \n",
       "1                1                0                1                0   \n",
       "2                1                0                1                0   \n",
       "3                1                0                0                1   \n",
       "4                1                0                1                0   \n",
       "\n",
       "   ps_car_09_cat_4  ps_car_10_cat_1  ps_car_10_cat_2  \n",
       "0                0                1                0  \n",
       "1                0                1                0  \n",
       "2                0                1                0  \n",
       "3                0                1                0  \n",
       "4                0                1                0  \n",
       "\n",
       "[5 rows x 103 columns]"
      ]
     },
     "execution_count": 15,
     "metadata": {},
     "output_type": "execute_result"
    }
   ],
   "source": [
    "df.head()"
   ]
  },
  {
   "cell_type": "markdown",
   "metadata": {},
   "source": [
    "# Feature Selection"
   ]
  },
  {
   "cell_type": "markdown",
   "metadata": {},
   "source": [
    "As we checked correlations and cardinality of categorical variables. We will remove the vars which have no correlations and a variable which has very high cardinality of 104. We will remove ps_car_11_cat as this has 104 distinct categorical values and it will lead to sparse dataset and can arise problem of \"curse of dimensionality\"."
   ]
  },
  {
   "cell_type": "code",
   "execution_count": 16,
   "metadata": {},
   "outputs": [
    {
     "data": {
      "text/plain": [
       "(595212, 81)"
      ]
     },
     "execution_count": 16,
     "metadata": {},
     "output_type": "execute_result"
    }
   ],
   "source": [
    "# removing irrelevant columns\n",
    "cols_to_drop = ['ps_calc_01','ps_calc_02','ps_calc_03','ps_calc_04','ps_calc_05','ps_calc_06','ps_calc_07','ps_calc_08',\n",
    "                'ps_calc_09','ps_calc_10','ps_calc_11','ps_calc_12','ps_calc_13','ps_calc_14','ps_calc_15_bin',\n",
    "                'ps_calc_16_bin','ps_calc_17_bin','ps_calc_18_bin','ps_calc_19_bin','ps_calc_20_bin','ps_ind_02_cat_freq',\n",
    "                'ps_car_11_cat']\n",
    "\n",
    "df.drop(cols_to_drop, inplace=True, axis=1)\n",
    "df.shape"
   ]
  },
  {
   "cell_type": "code",
   "execution_count": 17,
   "metadata": {},
   "outputs": [],
   "source": [
    "# splitting dataset into train and test\n",
    "from sklearn.model_selection import train_test_split\n",
    "y = df.target\n",
    "X = df.drop('target', axis=1)\n",
    "X = X.drop('id', axis=1)\n",
    "\n",
    "X_train, X_test, y_train, y_test = train_test_split(X, y, test_size=0.3, stratify = y, random_state=56)"
   ]
  },
  {
   "cell_type": "code",
   "execution_count": 18,
   "metadata": {},
   "outputs": [
    {
     "name": "stdout",
     "output_type": "stream",
     "text": [
      "('ps_ind_01', 0.0496647168269586)\n",
      "('ps_ind_03', 0.06493980418091423)\n",
      "('ps_ind_06_bin', 0.006673733156567469)\n",
      "('ps_ind_07_bin', 0.0072206567546360765)\n",
      "('ps_ind_08_bin', 0.007904867313852563)\n",
      "('ps_ind_09_bin', 0.0070959942251107464)\n",
      "('ps_ind_10_bin', 8.472733971385959e-05)\n",
      "('ps_ind_11_bin', 0.0003461707268197381)\n",
      "('ps_ind_12_bin', 0.0015757584755483132)\n",
      "('ps_ind_13_bin', 0.0002814488594942435)\n",
      "('ps_ind_14', 0.0020271991672731523)\n",
      "('ps_ind_15', 0.06759740678869092)\n",
      "('ps_ind_16_bin', 0.00902856919595687)\n",
      "('ps_ind_17_bin', 0.005013520816404033)\n",
      "('ps_ind_18_bin', 0.007813834726356338)\n",
      "('ps_reg_01', 0.04820610302570713)\n",
      "('ps_reg_02', 0.05957247927880986)\n",
      "('ps_reg_03', 0.10654542140742902)\n",
      "('ps_car_11', 0.021540388775830754)\n",
      "('ps_car_12', 0.038140021472269366)\n",
      "('ps_car_13', 0.11572371902741145)\n",
      "('ps_car_14', 0.07773159544760798)\n",
      "('ps_car_15', 0.051273984571901424)\n",
      "('ps_ind_02_cat_2', 0.013128335217360154)\n",
      "('ps_ind_02_cat_3', 0.006511494195619758)\n",
      "('ps_ind_02_cat_4', 0.0035816297194720247)\n",
      "('ps_ind_04_cat_1', 0.017779594141552058)\n",
      "('ps_ind_05_cat_1', 0.003370210003408375)\n",
      "('ps_ind_05_cat_2', 0.0028886796147114557)\n",
      "('ps_ind_05_cat_3', 0.003119600220745541)\n",
      "('ps_ind_05_cat_4', 0.005656013000392224)\n",
      "('ps_ind_05_cat_5', 0.0010537257252025939)\n",
      "('ps_ind_05_cat_6', 0.005165387971960814)\n",
      "('ps_car_01_cat_1', 0.0007522873301328837)\n",
      "('ps_car_01_cat_2', 0.0010622133104135937)\n",
      "('ps_car_01_cat_3', 0.0021961122155055813)\n",
      "('ps_car_01_cat_4', 0.005241767679281056)\n",
      "('ps_car_01_cat_5', 0.003923670093319655)\n",
      "('ps_car_01_cat_6', 0.006559456213108525)\n",
      "('ps_car_01_cat_7', 0.00949305727208343)\n",
      "('ps_car_01_cat_8', 0.003866661918651016)\n",
      "('ps_car_01_cat_9', 0.0050157203629132)\n",
      "('ps_car_01_cat_10', 0.007141880041319567)\n",
      "('ps_car_01_cat_11', 0.012154184851216599)\n",
      "('ps_car_02_cat_1', 0.007421890688919813)\n",
      "('ps_car_04_cat_1', 0.0042304545304717054)\n",
      "('ps_car_04_cat_2', 0.0025906967846186894)\n",
      "('ps_car_04_cat_3', 0.00035456870156062566)\n",
      "('ps_car_04_cat_4', 7.496031087136233e-05)\n",
      "('ps_car_04_cat_5', 0.000277934501987688)\n",
      "('ps_car_04_cat_6', 0.0004673345898263501)\n",
      "('ps_car_04_cat_7', 0.00015060958691816604)\n",
      "('ps_car_04_cat_8', 0.0027638199101927222)\n",
      "('ps_car_04_cat_9', 0.00195425758500113)\n",
      "('ps_car_06_cat_1', 0.010298104948175998)\n",
      "('ps_car_06_cat_2', 0.0005998016409251613)\n",
      "('ps_car_06_cat_3', 0.002468473013269724)\n",
      "('ps_car_06_cat_4', 0.005060964514992947)\n",
      "('ps_car_06_cat_5', 0.0007443618175994102)\n",
      "('ps_car_06_cat_6', 0.004499861156052077)\n",
      "('ps_car_06_cat_7', 0.0036205201026092053)\n",
      "('ps_car_06_cat_8', 0.0004712604543126098)\n",
      "('ps_car_06_cat_9', 0.0035730035651766203)\n",
      "('ps_car_06_cat_10', 0.004809209383938247)\n",
      "('ps_car_06_cat_11', 0.009754412897397514)\n",
      "('ps_car_06_cat_12', 0.0008446458347751132)\n",
      "('ps_car_06_cat_13', 0.0015362752019854298)\n",
      "('ps_car_06_cat_14', 0.007944177265705805)\n",
      "('ps_car_06_cat_15', 0.003771682150626512)\n",
      "('ps_car_06_cat_16', 0.0014253347350414375)\n",
      "('ps_car_06_cat_17', 0.001513905245948268)\n",
      "('ps_car_07_cat_1', 0.006602409439120197)\n",
      "('ps_car_08_cat_1', 0.008361929955239995)\n",
      "('ps_car_09_cat_1', 0.005202654404661011)\n",
      "('ps_car_09_cat_2', 0.014888577159456214)\n",
      "('ps_car_09_cat_3', 0.0027936045977766423)\n",
      "('ps_car_09_cat_4', 0.0014316365212615984)\n",
      "('ps_car_10_cat_1', 0.0017193224980328167)\n",
      "('ps_car_10_cat_2', 0.00011354164591697582)\n"
     ]
    }
   ],
   "source": [
    "# run random forest to get feature importance\n",
    "from sklearn.ensemble import RandomForestClassifier\n",
    "rf = RandomForestClassifier(n_estimators = 25).fit(X_train, y_train)\n",
    "\n",
    "feats = X_train.columns\n",
    "\n",
    "for feature in zip(feats, rf.feature_importances_):\n",
    "    print(feature)"
   ]
  },
  {
   "cell_type": "code",
   "execution_count": 18,
   "metadata": {},
   "outputs": [],
   "source": [
    "cols_for_model = ['ps_ind_01','ps_ind_03','ps_ind_15','ps_reg_01','ps_reg_02','ps_reg_03','ps_car_11','ps_car_12','ps_car_13',\n",
    "                  'ps_car_14','ps_car_15','ps_ind_02_cat_2','ps_ind_04_cat_1','ps_car_01_cat_11','ps_car_06_cat_1',\n",
    "                  'ps_car_06_cat_11','ps_car_09_cat_2','target']"
   ]
  },
  {
   "cell_type": "code",
   "execution_count": 19,
   "metadata": {},
   "outputs": [
    {
     "data": {
      "text/plain": [
       "(595212, 18)"
      ]
     },
     "execution_count": 19,
     "metadata": {},
     "output_type": "execute_result"
    }
   ],
   "source": [
    "df2 = df\n",
    "df = df2[cols_for_model]\n",
    "df.shape"
   ]
  },
  {
   "cell_type": "code",
   "execution_count": 20,
   "metadata": {},
   "outputs": [
    {
     "data": {
      "text/plain": [
       "Index(['ps_ind_01', 'ps_ind_03', 'ps_ind_15', 'ps_reg_01', 'ps_reg_02',\n",
       "       'ps_reg_03', 'ps_car_11', 'ps_car_12', 'ps_car_13', 'ps_car_14',\n",
       "       'ps_car_15', 'ps_ind_02_cat_2', 'ps_ind_04_cat_1', 'ps_car_01_cat_11',\n",
       "       'ps_car_06_cat_1', 'ps_car_06_cat_11', 'ps_car_09_cat_2', 'target'],\n",
       "      dtype='object')"
      ]
     },
     "execution_count": 20,
     "metadata": {},
     "output_type": "execute_result"
    }
   ],
   "source": [
    "df.columns"
   ]
  },
  {
   "cell_type": "markdown",
   "metadata": {},
   "source": [
    "# Handling Imbalanced Dataset"
   ]
  },
  {
   "cell_type": "markdown",
   "metadata": {},
   "source": [
    "Presence of minority class in the dataset.\n",
    "\n",
    "Lets check out our target variable."
   ]
  },
  {
   "cell_type": "code",
   "execution_count": 22,
   "metadata": {},
   "outputs": [
    {
     "name": "stdout",
     "output_type": "stream",
     "text": [
      "0    573518\n",
      "1     21694\n",
      "Name: target, dtype: int64\n"
     ]
    },
    {
     "data": {
      "text/html": [
       "<div>\n",
       "<style scoped>\n",
       "    .dataframe tbody tr th:only-of-type {\n",
       "        vertical-align: middle;\n",
       "    }\n",
       "\n",
       "    .dataframe tbody tr th {\n",
       "        vertical-align: top;\n",
       "    }\n",
       "\n",
       "    .dataframe thead th {\n",
       "        text-align: right;\n",
       "    }\n",
       "</style>\n",
       "<table border=\"1\" class=\"dataframe\">\n",
       "  <thead>\n",
       "    <tr style=\"text-align: right;\">\n",
       "      <th></th>\n",
       "      <th>index</th>\n",
       "      <th>target</th>\n",
       "    </tr>\n",
       "  </thead>\n",
       "  <tbody>\n",
       "    <tr>\n",
       "      <th>0</th>\n",
       "      <td>0</td>\n",
       "      <td>0.963552</td>\n",
       "    </tr>\n",
       "    <tr>\n",
       "      <th>1</th>\n",
       "      <td>1</td>\n",
       "      <td>0.036448</td>\n",
       "    </tr>\n",
       "  </tbody>\n",
       "</table>\n",
       "</div>"
      ],
      "text/plain": [
       "   index    target\n",
       "0      0  0.963552\n",
       "1      1  0.036448"
      ]
     },
     "execution_count": 22,
     "metadata": {},
     "output_type": "execute_result"
    }
   ],
   "source": [
    "print(df.target.value_counts())\n",
    "df.target.value_counts(normalize = True).reset_index()"
   ]
  },
  {
   "cell_type": "code",
   "execution_count": 23,
   "metadata": {},
   "outputs": [
    {
     "data": {
      "text/plain": [
       "Text(0.5,1,'Class Distributions \\n (0: No Claim || 1: Claim)')"
      ]
     },
     "execution_count": 23,
     "metadata": {},
     "output_type": "execute_result"
    },
    {
     "data": {
      "image/png": "[encoded data removed]",
      "text/plain": [
       "<Figure size 432x288 with 1 Axes>"
      ]
     },
     "metadata": {},
     "output_type": "display_data"
    }
   ],
   "source": [
    "colors = [\"#0101DF\", \"#DF0101\"]\n",
    "\n",
    "sns.countplot('target', data=df, palette=colors)\n",
    "plt.title('Class Distributions \\n (0: No Claim || 1: Claim)', fontsize=14)"
   ]
  },
  {
   "cell_type": "markdown",
   "metadata": {},
   "source": [
    "We can see that claims that have been filed is only 3.6%. Therefore this is highly imbalanced.\n",
    "Why is it important to handle imbalanced classes. "
   ]
  },
  {
   "cell_type": "markdown",
   "metadata": {},
   "source": [
    "Challenges related to imbalanced dataset\n",
    "1. Biased predictions\n",
    "2. Misleading accuracy"
   ]
  },
  {
   "cell_type": "markdown",
   "metadata": {},
   "source": [
    "# How do we handle imbalanced class"
   ]
  },
  {
   "cell_type": "markdown",
   "metadata": {},
   "source": [
    "Since we understand now that imbalanced class has to be taken care then next question is HOW?"
   ]
  },
  {
   "cell_type": "markdown",
   "metadata": {},
   "source": [
    "We can handle imbalanced classes by balancing the classes by increasing minority or decreasing majority.\n",
    "\n",
    "We can do that by following few techniques\n",
    "1. Random Under-Sampling\n",
    "2. Random Over-Sampling\n",
    "3. SMOTE - Synthetic Minority Oversampling Technique\n",
    "4. ADASYN - Adaptive Synthetic Sampling Method\n",
    "5. SMOTETomek - Over-sampling followed by under-sampling"
   ]
  },
  {
   "cell_type": "markdown",
   "metadata": {},
   "source": [
    "# When to Use resampling methods\n",
    "# -- Use resampling methods on your training set, never on your test set!"
   ]
  },
  {
   "cell_type": "code",
   "execution_count": 22,
   "metadata": {},
   "outputs": [],
   "source": [
    "# Create Train and Test Sets\n",
    "from sklearn.model_selection import train_test_split\n",
    "y = df.target\n",
    "X = df.drop('target', axis=1)\n",
    "\n",
    "X_train, X_test, y_train, y_test = train_test_split(X, y, test_size=0.3, stratify = y, random_state=56)"
   ]
  },
  {
   "cell_type": "code",
   "execution_count": 25,
   "metadata": {},
   "outputs": [
    {
     "name": "stdout",
     "output_type": "stream",
     "text": [
      "0    401462\n",
      "1     15186\n",
      "Name: target, dtype: int64\n"
     ]
    },
    {
     "data": {
      "text/html": [
       "<div>\n",
       "<style scoped>\n",
       "    .dataframe tbody tr th:only-of-type {\n",
       "        vertical-align: middle;\n",
       "    }\n",
       "\n",
       "    .dataframe tbody tr th {\n",
       "        vertical-align: top;\n",
       "    }\n",
       "\n",
       "    .dataframe thead th {\n",
       "        text-align: right;\n",
       "    }\n",
       "</style>\n",
       "<table border=\"1\" class=\"dataframe\">\n",
       "  <thead>\n",
       "    <tr style=\"text-align: right;\">\n",
       "      <th></th>\n",
       "      <th>index</th>\n",
       "      <th>target</th>\n",
       "    </tr>\n",
       "  </thead>\n",
       "  <tbody>\n",
       "    <tr>\n",
       "      <th>0</th>\n",
       "      <td>0</td>\n",
       "      <td>0.963552</td>\n",
       "    </tr>\n",
       "    <tr>\n",
       "      <th>1</th>\n",
       "      <td>1</td>\n",
       "      <td>0.036448</td>\n",
       "    </tr>\n",
       "  </tbody>\n",
       "</table>\n",
       "</div>"
      ],
      "text/plain": [
       "   index    target\n",
       "0      0  0.963552\n",
       "1      1  0.036448"
      ]
     },
     "execution_count": 25,
     "metadata": {},
     "output_type": "execute_result"
    }
   ],
   "source": [
    "print(y_train.value_counts())\n",
    "y_train.value_counts(normalize = True).reset_index()"
   ]
  },
  {
   "cell_type": "code",
   "execution_count": 26,
   "metadata": {},
   "outputs": [
    {
     "name": "stdout",
     "output_type": "stream",
     "text": [
      "0    172056\n",
      "1      6508\n",
      "Name: target, dtype: int64\n"
     ]
    },
    {
     "data": {
      "text/html": [
       "<div>\n",
       "<style scoped>\n",
       "    .dataframe tbody tr th:only-of-type {\n",
       "        vertical-align: middle;\n",
       "    }\n",
       "\n",
       "    .dataframe tbody tr th {\n",
       "        vertical-align: top;\n",
       "    }\n",
       "\n",
       "    .dataframe thead th {\n",
       "        text-align: right;\n",
       "    }\n",
       "</style>\n",
       "<table border=\"1\" class=\"dataframe\">\n",
       "  <thead>\n",
       "    <tr style=\"text-align: right;\">\n",
       "      <th></th>\n",
       "      <th>index</th>\n",
       "      <th>target</th>\n",
       "    </tr>\n",
       "  </thead>\n",
       "  <tbody>\n",
       "    <tr>\n",
       "      <th>0</th>\n",
       "      <td>0</td>\n",
       "      <td>0.963554</td>\n",
       "    </tr>\n",
       "    <tr>\n",
       "      <th>1</th>\n",
       "      <td>1</td>\n",
       "      <td>0.036446</td>\n",
       "    </tr>\n",
       "  </tbody>\n",
       "</table>\n",
       "</div>"
      ],
      "text/plain": [
       "   index    target\n",
       "0      0  0.963554\n",
       "1      1  0.036446"
      ]
     },
     "execution_count": 26,
     "metadata": {},
     "output_type": "execute_result"
    }
   ],
   "source": [
    "print(y_test.value_counts())\n",
    "y_test.value_counts(normalize = True).reset_index()"
   ]
  },
  {
   "cell_type": "code",
   "execution_count": 27,
   "metadata": {},
   "outputs": [],
   "source": [
    "import warnings\n",
    "warnings.filterwarnings(\"ignore\")"
   ]
  },
  {
   "cell_type": "markdown",
   "metadata": {},
   "source": [
    "# Accuracy Paradox"
   ]
  },
  {
   "cell_type": "markdown",
   "metadata": {},
   "source": [
    "Accuracy paradox talks about a situation where even you if you don't build a model then also your accuracy would be really high. Lets take our dataset and understand this - So we have 96% of cases where claims were not filed.\n",
    "\n",
    "Now try to create a confusion matrix and add zeroes to predicted classes. Therefore, we have only actual numbers. Now try to calculate accuracy metric. You will still find that you have an accuracy of 96%. Lets see if we face this problem with any of our model."
   ]
  },
  {
   "cell_type": "markdown",
   "metadata": {},
   "source": [
    "# Evaluation Metric"
   ]
  },
  {
   "cell_type": "raw",
   "metadata": {},
   "source": [
    "                                          Predicted\n",
    "                         Negative                       Positive\n",
    "\n",
    "Actual Negative     True Negative (TN)                False Positive (FP)  \n",
    "       Postive      False Negative (FN)               True Positive (TP)"
   ]
  },
  {
   "cell_type": "markdown",
   "metadata": {},
   "source": [
    "1. Accuracy =  TN+TP / TN+FP+FN+TP\n",
    "\n",
    "\n",
    "2. Precision = TP / TP+FP\n",
    "\n",
    "\n",
    "3. Recall = TP / TP+FN\n",
    "\n",
    "\n",
    "4. F1 Score = 2 x (precision x recall) / (precision + recall)"
   ]
  },
  {
   "cell_type": "markdown",
   "metadata": {},
   "source": [
    "In this problem we will use recall as evaluation metric because we would like to capture the performace where we will be rightly predicting positive classes."
   ]
  },
  {
   "cell_type": "code",
   "execution_count": 26,
   "metadata": {},
   "outputs": [],
   "source": [
    "# Logistic Regression\n",
    "from collections import Counter\n",
    "from sklearn.linear_model import LogisticRegression\n",
    "from sklearn.metrics import precision_score, recall_score, confusion_matrix, classification_report, accuracy_score, f1_score"
   ]
  },
  {
   "cell_type": "code",
   "execution_count": 29,
   "metadata": {},
   "outputs": [
    {
     "data": {
      "text/plain": [
       "LogisticRegression()"
      ]
     },
     "execution_count": 29,
     "metadata": {},
     "output_type": "execute_result"
    }
   ],
   "source": [
    "lreg = LogisticRegression()\n",
    "lreg.fit(X_train, y_train)"
   ]
  },
  {
   "cell_type": "code",
   "execution_count": 30,
   "metadata": {},
   "outputs": [],
   "source": [
    "y_pred = lreg.predict(X_test)"
   ]
  },
  {
   "cell_type": "code",
   "execution_count": 31,
   "metadata": {},
   "outputs": [
    {
     "name": "stdout",
     "output_type": "stream",
     "text": [
      "Accuracy:  0.9635536838332475\n",
      "F1 score:  0.0\n",
      "Recall:  0.0\n",
      "Precision:  0.0\n",
      "\n",
      " clasification report:\n",
      "               precision    recall  f1-score   support\n",
      "\n",
      "           0       0.96      1.00      0.98    172056\n",
      "           1       0.00      0.00      0.00      6508\n",
      "\n",
      "    accuracy                           0.96    178564\n",
      "   macro avg       0.48      0.50      0.49    178564\n",
      "weighted avg       0.93      0.96      0.95    178564\n",
      "\n",
      "\n",
      " confussion matrix:\n",
      " [[172056      0]\n",
      " [  6508      0]]\n"
     ]
    }
   ],
   "source": [
    "print ('Accuracy: ', accuracy_score(y_test, y_pred))\n",
    "print ('F1 score: ', f1_score(y_test, y_pred))\n",
    "print ('Recall: ', recall_score(y_test, y_pred))\n",
    "print ('Precision: ', precision_score(y_test, y_pred))\n",
    "print ('\\n clasification report:\\n', classification_report(y_test,y_pred))\n",
    "print ('\\n confussion matrix:\\n',confusion_matrix(y_test, y_pred))"
   ]
  },
  {
   "cell_type": "markdown",
   "metadata": {},
   "source": [
    "Random Under-Sampling\n",
    "\n",
    "1. Randomly remove majority class observations\n",
    "2. Help balance the dataset\n",
    "3. Discarded observations could have important information\n",
    "4. May lead to bias"
   ]
  },
  {
   "cell_type": "code",
   "execution_count": 34,
   "metadata": {},
   "outputs": [
    {
     "data": {
      "text/plain": [
       "30372"
      ]
     },
     "execution_count": 34,
     "metadata": {},
     "output_type": "execute_result"
    }
   ],
   "source": [
    "# Random Undersampling\n",
    "from imblearn.under_sampling import RandomUnderSampler\n",
    "under_sample = RandomUnderSampler(random_state = 5)\n",
    "X_resampled_us, y_resampled_us = under_sample.fit_resample(X_train, y_train)\n",
    "len(X_resampled_us)"
   ]
  },
  {
   "cell_type": "code",
   "execution_count": 35,
   "metadata": {},
   "outputs": [
    {
     "name": "stdout",
     "output_type": "stream",
     "text": [
      "[(0, 15186), (1, 15186)]\n"
     ]
    }
   ],
   "source": [
    "print(sorted(Counter(y_resampled_us).items()))"
   ]
  },
  {
   "cell_type": "code",
   "execution_count": 36,
   "metadata": {},
   "outputs": [],
   "source": [
    "lreg_us = LogisticRegression()\n",
    "lreg_us.fit(X_resampled_us, y_resampled_us)\n",
    "\n",
    "y_pred_us = lreg_us.predict(X_test)"
   ]
  },
  {
   "cell_type": "code",
   "execution_count": 37,
   "metadata": {},
   "outputs": [
    {
     "name": "stdout",
     "output_type": "stream",
     "text": [
      "Accuracy:  0.5962120024193006\n",
      "F1 score:  0.08851638349514562\n",
      "Recall:  0.5379532882606023\n",
      "Precision:  0.04822579756460411\n",
      "\n",
      " clasification report:\n",
      "               precision    recall  f1-score   support\n",
      "\n",
      "           0       0.97      0.60      0.74    172056\n",
      "           1       0.05      0.54      0.09      6508\n",
      "\n",
      "    accuracy                           0.60    178564\n",
      "   macro avg       0.51      0.57      0.41    178564\n",
      "weighted avg       0.94      0.60      0.72    178564\n",
      "\n",
      "\n",
      " confussion matrix:\n",
      " [[102961  69095]\n",
      " [  3007   3501]]\n"
     ]
    }
   ],
   "source": [
    "print ('Accuracy: ', accuracy_score(y_test, y_pred_us))\n",
    "print ('F1 score: ', f1_score(y_test, y_pred_us))\n",
    "print ('Recall: ', recall_score(y_test, y_pred_us))\n",
    "print ('Precision: ', precision_score(y_test, y_pred_us))\n",
    "print ('\\n clasification report:\\n', classification_report(y_test,y_pred_us))\n",
    "print ('\\n confussion matrix:\\n',confusion_matrix(y_test, y_pred_us))"
   ]
  },
  {
   "cell_type": "markdown",
   "metadata": {},
   "source": [
    "Tomek Links\n",
    "\n",
    "\n",
    "1. Tomke link is a heuristic undersampling technique based on a distance measure. \n",
    "2. Tomek link is established based on a distance between instances from two different classes which are further used for removing majority class instance."
   ]
  },
  {
   "cell_type": "code",
   "execution_count": 23,
   "metadata": {},
   "outputs": [
    {
     "data": {
      "text/plain": [
       "409168"
      ]
     },
     "execution_count": 23,
     "metadata": {},
     "output_type": "execute_result"
    }
   ],
   "source": [
    "# Tomek Links\n",
    "from imblearn.under_sampling import TomekLinks\n",
    "tomek_sample = TomekLinks(sampling_strategy='majority')\n",
    "X_resampled_tomek, y_resampled_tomek = tomek_sample.fit_resample(X_train, y_train)\n",
    "len(X_resampled_tomek)"
   ]
  },
  {
   "cell_type": "code",
   "execution_count": 40,
   "metadata": {},
   "outputs": [
    {
     "name": "stdout",
     "output_type": "stream",
     "text": [
      "[(0, 393982), (1, 15186)]\n"
     ]
    }
   ],
   "source": [
    "print(sorted(Counter(y_resampled_tomek).items()))"
   ]
  },
  {
   "cell_type": "code",
   "execution_count": 41,
   "metadata": {},
   "outputs": [],
   "source": [
    "lreg_tomek = LogisticRegression()\n",
    "lreg_tomek.fit(X_resampled_tomek, y_resampled_tomek)\n",
    "\n",
    "y_pred_tomek = lreg_tomek.predict(X_test)"
   ]
  },
  {
   "cell_type": "code",
   "execution_count": 42,
   "metadata": {},
   "outputs": [
    {
     "name": "stdout",
     "output_type": "stream",
     "text": [
      "Accuracy:  0.9635536838332475\n",
      "F1 score:  0.0\n",
      "Recall:  0.0\n",
      "Precision:  0.0\n",
      "\n",
      " clasification report:\n",
      "               precision    recall  f1-score   support\n",
      "\n",
      "           0       0.96      1.00      0.98    172056\n",
      "           1       0.00      0.00      0.00      6508\n",
      "\n",
      "    accuracy                           0.96    178564\n",
      "   macro avg       0.48      0.50      0.49    178564\n",
      "weighted avg       0.93      0.96      0.95    178564\n",
      "\n",
      "\n",
      " confussion matrix:\n",
      " [[172056      0]\n",
      " [  6508      0]]\n"
     ]
    }
   ],
   "source": [
    "print ('Accuracy: ', accuracy_score(y_test, y_pred_tomek))\n",
    "print ('F1 score: ', f1_score(y_test, y_pred_tomek))\n",
    "print ('Recall: ', recall_score(y_test, y_pred_tomek))\n",
    "print ('Precision: ', precision_score(y_test, y_pred_tomek))\n",
    "print ('\\n clasification report:\\n', classification_report(y_test,y_pred_tomek))\n",
    "print ('\\n confussion matrix:\\n',confusion_matrix(y_test, y_pred_tomek))"
   ]
  },
  {
   "cell_type": "markdown",
   "metadata": {},
   "source": [
    "Random Over-Sampling\n",
    "\n",
    "1. Randomly add more minority observations by replication\n",
    "2. No information loss\n",
    "3. Prone to overfitting due to copying same information"
   ]
  },
  {
   "cell_type": "code",
   "execution_count": 44,
   "metadata": {},
   "outputs": [
    {
     "data": {
      "text/plain": [
       "802924"
      ]
     },
     "execution_count": 44,
     "metadata": {},
     "output_type": "execute_result"
    }
   ],
   "source": [
    "# Random OverSampling\n",
    "from imblearn.over_sampling import RandomOverSampler\n",
    "over_sample = RandomOverSampler(sampling_strategy = 1)\n",
    "X_resampled_os, y_resampled_os = over_sample.fit_resample(X_train, y_train)\n",
    "len(X_resampled_os)"
   ]
  },
  {
   "cell_type": "code",
   "execution_count": 45,
   "metadata": {},
   "outputs": [
    {
     "name": "stdout",
     "output_type": "stream",
     "text": [
      "[(0, 401462), (1, 401462)]\n"
     ]
    }
   ],
   "source": [
    "print(sorted(Counter(y_resampled_os).items()))"
   ]
  },
  {
   "cell_type": "code",
   "execution_count": 46,
   "metadata": {},
   "outputs": [],
   "source": [
    "lreg_os = LogisticRegression()\n",
    "lreg_os.fit(X_resampled_os, y_resampled_os)\n",
    "\n",
    "y_pred_os = lreg_os.predict(X_test)"
   ]
  },
  {
   "cell_type": "code",
   "execution_count": 47,
   "metadata": {},
   "outputs": [
    {
     "name": "stdout",
     "output_type": "stream",
     "text": [
      "Accuracy:  0.6053123809950494\n",
      "F1 score:  0.08915024232633278\n",
      "Recall:  0.5299631223110018\n",
      "Precision:  0.048668632791002864\n",
      "\n",
      " clasification report:\n",
      "               precision    recall  f1-score   support\n",
      "\n",
      "           0       0.97      0.61      0.75    172056\n",
      "           1       0.05      0.53      0.09      6508\n",
      "\n",
      "    accuracy                           0.61    178564\n",
      "   macro avg       0.51      0.57      0.42    178564\n",
      "weighted avg       0.94      0.61      0.72    178564\n",
      "\n",
      "\n",
      " confussion matrix:\n",
      " [[104638  67418]\n",
      " [  3059   3449]]\n"
     ]
    }
   ],
   "source": [
    "print ('Accuracy: ', accuracy_score(y_test, y_pred_os))\n",
    "print ('F1 score: ', f1_score(y_test, y_pred_os))\n",
    "print ('Recall: ', recall_score(y_test, y_pred_os))\n",
    "print ('Precision: ', precision_score(y_test, y_pred_os))\n",
    "print ('\\n clasification report:\\n', classification_report(y_test,y_pred_os))\n",
    "print ('\\n confussion matrix:\\n',confusion_matrix(y_test, y_pred_os))"
   ]
  },
  {
   "cell_type": "markdown",
   "metadata": {},
   "source": [
    "SMOTE - Synthetic Minority Oversampling Technique\n",
    "Creates new \"Synthetic\" observations"
   ]
  },
  {
   "cell_type": "markdown",
   "metadata": {},
   "source": [
    "Process: - \n",
    "1. Identify the feature vector and its nearest neighbour\n",
    "2. Take the difference between the two\n",
    "3. Multiply the difference with a random number between 0 and 1\n",
    "4. Identify a new point on the line segment by adding the random number to feature vector\n",
    "5. Repeat the process for identified feature vectors"
   ]
  },
  {
   "attachments": {
    "image.png": {
     "image/png": "[encoded data removed]"
    }
   },
   "cell_type": "markdown",
   "metadata": {},
   "source": [
    "![image.png](attachment:image.png)"
   ]
  },
  {
   "cell_type": "code",
   "execution_count": 49,
   "metadata": {},
   "outputs": [
    {
     "data": {
      "text/plain": [
       "802924"
      ]
     },
     "execution_count": 49,
     "metadata": {},
     "output_type": "execute_result"
    }
   ],
   "source": [
    "# SMOTE\n",
    "from imblearn.over_sampling import SMOTE\n",
    "smt = SMOTE(random_state=45, k_neighbors=5)\n",
    "X_resampled_smt, y_resampled_smt = smt.fit_resample(X_train, y_train)\n",
    "len(X_resampled_smt)"
   ]
  },
  {
   "cell_type": "code",
   "execution_count": 50,
   "metadata": {},
   "outputs": [
    {
     "name": "stdout",
     "output_type": "stream",
     "text": [
      "[(0, 401462), (1, 401462)]\n"
     ]
    }
   ],
   "source": [
    "print(sorted(Counter(y_resampled_smt).items()))"
   ]
  },
  {
   "cell_type": "code",
   "execution_count": 51,
   "metadata": {},
   "outputs": [],
   "source": [
    "lreg_smt = LogisticRegression()\n",
    "lreg_smt.fit(X_resampled_smt, y_resampled_smt)\n",
    "\n",
    "y_pred_smt = lreg_smt.predict(X_test)"
   ]
  },
  {
   "cell_type": "code",
   "execution_count": 52,
   "metadata": {},
   "outputs": [
    {
     "name": "stdout",
     "output_type": "stream",
     "text": [
      "Accuracy:  0.5719629936605363\n",
      "F1 score:  0.07873294440962345\n",
      "Recall:  0.5018438844499078\n",
      "Precision:  0.04271737993094067\n",
      "\n",
      " clasification report:\n",
      "               precision    recall  f1-score   support\n",
      "\n",
      "           0       0.97      0.57      0.72    172056\n",
      "           1       0.04      0.50      0.08      6508\n",
      "\n",
      "    accuracy                           0.57    178564\n",
      "   macro avg       0.51      0.54      0.40    178564\n",
      "weighted avg       0.93      0.57      0.70    178564\n",
      "\n",
      "\n",
      " confussion matrix:\n",
      " [[98866 73190]\n",
      " [ 3242  3266]]\n"
     ]
    }
   ],
   "source": [
    "print ('Accuracy: ', accuracy_score(y_test, y_pred_smt))\n",
    "print ('F1 score: ', f1_score(y_test, y_pred_smt))\n",
    "print ('Recall: ', recall_score(y_test, y_pred_smt))\n",
    "print ('Precision: ', precision_score(y_test, y_pred_smt))\n",
    "print ('\\n clasification report:\\n', classification_report(y_test,y_pred_smt))\n",
    "print ('\\n confussion matrix:\\n',confusion_matrix(y_test, y_pred_smt))"
   ]
  },
  {
   "cell_type": "markdown",
   "metadata": {},
   "source": [
    "ADASYN\n",
    "\n",
    "1. In ADASYN, the minority examples are generated based on their density distribution.\n",
    "2. More synthetic data are generated from minority class samples that are harder to learn as compared with those minority samples that are easier to learn."
   ]
  },
  {
   "cell_type": "code",
   "execution_count": 54,
   "metadata": {},
   "outputs": [
    {
     "data": {
      "text/plain": [
       "808210"
      ]
     },
     "execution_count": 54,
     "metadata": {},
     "output_type": "execute_result"
    }
   ],
   "source": [
    "# ADASYN\n",
    "from imblearn.over_sampling import ADASYN\n",
    "ada = ADASYN(random_state=45, n_neighbors=5)\n",
    "X_resampled_ada, y_resampled_ada = ada.fit_resample(X_train, y_train)\n",
    "len(X_resampled_ada)"
   ]
  },
  {
   "cell_type": "code",
   "execution_count": 55,
   "metadata": {},
   "outputs": [
    {
     "name": "stdout",
     "output_type": "stream",
     "text": [
      "[(0, 401462), (1, 406748)]\n"
     ]
    }
   ],
   "source": [
    "print(sorted(Counter(y_resampled_ada).items()))"
   ]
  },
  {
   "cell_type": "code",
   "execution_count": 56,
   "metadata": {},
   "outputs": [],
   "source": [
    "lreg_ada = LogisticRegression()\n",
    "lreg_ada.fit(X_resampled_ada, y_resampled_ada)\n",
    "\n",
    "y_pred_ada = lreg_ada.predict(X_test)"
   ]
  },
  {
   "cell_type": "code",
   "execution_count": 57,
   "metadata": {},
   "outputs": [
    {
     "name": "stdout",
     "output_type": "stream",
     "text": [
      "Accuracy:  0.5623249927196972\n",
      "F1 score:  0.07776453512384503\n",
      "Recall:  0.506299938537185\n",
      "Precision:  0.042116699686840925\n",
      "\n",
      " clasification report:\n",
      "               precision    recall  f1-score   support\n",
      "\n",
      "           0       0.97      0.56      0.71    172056\n",
      "           1       0.04      0.51      0.08      6508\n",
      "\n",
      "    accuracy                           0.56    178564\n",
      "   macro avg       0.51      0.54      0.40    178564\n",
      "weighted avg       0.93      0.56      0.69    178564\n",
      "\n",
      "\n",
      " confussion matrix:\n",
      " [[97116 74940]\n",
      " [ 3213  3295]]\n"
     ]
    }
   ],
   "source": [
    "print ('Accuracy: ', accuracy_score(y_test, y_pred_ada))\n",
    "print ('F1 score: ', f1_score(y_test, y_pred_ada))\n",
    "print ('Recall: ', recall_score(y_test, y_pred_ada))\n",
    "print ('Precision: ', precision_score(y_test, y_pred_ada))\n",
    "print ('\\n clasification report:\\n', classification_report(y_test,y_pred_ada))\n",
    "print ('\\n confussion matrix:\\n',confusion_matrix(y_test, y_pred_ada))"
   ]
  },
  {
   "cell_type": "markdown",
   "metadata": {},
   "source": [
    "Combining Oversampling and Undersampling\n",
    "\n",
    "1. Tomek links can be used as an under-sampling method or as a data cleaning method.\n",
    "2. Tomek links to the over-sampled training set as a data cleaning method. Thus, instead of removing only the majority class examples that from Tomek links, examples from both classes are removed."
   ]
  },
  {
   "cell_type": "code",
   "execution_count": 59,
   "metadata": {},
   "outputs": [
    {
     "data": {
      "text/plain": [
       "802528"
      ]
     },
     "execution_count": 59,
     "metadata": {},
     "output_type": "execute_result"
    }
   ],
   "source": [
    "# SMOTE+TOMEK\n",
    "from imblearn.combine import SMOTETomek\n",
    "smt_tmk = SMOTETomek(random_state=45)\n",
    "X_resampled_smt_tmk, y_resampled_smt_tmk = smt_tmk.fit_resample(X_train, y_train)\n",
    "len(X_resampled_smt_tmk)"
   ]
  },
  {
   "cell_type": "code",
   "execution_count": 60,
   "metadata": {},
   "outputs": [
    {
     "name": "stdout",
     "output_type": "stream",
     "text": [
      "[(0, 401264), (1, 401264)]\n"
     ]
    }
   ],
   "source": [
    "print(sorted(Counter(y_resampled_smt_tmk).items()))"
   ]
  },
  {
   "cell_type": "code",
   "execution_count": 61,
   "metadata": {},
   "outputs": [],
   "source": [
    "lreg_smt_tmk = LogisticRegression()\n",
    "lreg_smt_tmk.fit(X_resampled_smt_tmk, y_resampled_smt_tmk)\n",
    "\n",
    "y_pred_smt_tmk = lreg_smt_tmk.predict(X_test)"
   ]
  },
  {
   "cell_type": "code",
   "execution_count": 62,
   "metadata": {},
   "outputs": [
    {
     "name": "stdout",
     "output_type": "stream",
     "text": [
      "Accuracy:  0.5777256333863489\n",
      "F1 score:  0.07891232913526258\n",
      "Recall:  0.4963122311001844\n",
      "Precision:  0.042863778116913276\n",
      "\n",
      " clasification report:\n",
      "               precision    recall  f1-score   support\n",
      "\n",
      "           0       0.97      0.58      0.73    172056\n",
      "           1       0.04      0.50      0.08      6508\n",
      "\n",
      "    accuracy                           0.58    178564\n",
      "   macro avg       0.51      0.54      0.40    178564\n",
      "weighted avg       0.93      0.58      0.70    178564\n",
      "\n",
      "\n",
      " confussion matrix:\n",
      " [[99931 72125]\n",
      " [ 3278  3230]]\n"
     ]
    }
   ],
   "source": [
    "print ('Accuracy: ', accuracy_score(y_test, y_pred_smt_tmk))\n",
    "print ('F1 score: ', f1_score(y_test, y_pred_smt_tmk))\n",
    "print ('Recall: ', recall_score(y_test, y_pred_smt_tmk))\n",
    "print ('Precision: ', precision_score(y_test, y_pred_smt_tmk))\n",
    "print ('\\n clasification report:\\n', classification_report(y_test,y_pred_smt_tmk))\n",
    "print ('\\n confussion matrix:\\n',confusion_matrix(y_test, y_pred_smt_tmk))"
   ]
  },
  {
   "cell_type": "markdown",
   "metadata": {},
   "source": [
    "# Decision Trees"
   ]
  },
  {
   "cell_type": "code",
   "execution_count": 64,
   "metadata": {},
   "outputs": [],
   "source": [
    "# Decision Trees - Base\n",
    "from sklearn.tree import DecisionTreeClassifier\n",
    "dtc = DecisionTreeClassifier(random_state=0)\n",
    "dtc.fit(X_train, y_train)\n",
    "\n",
    "y_pred_dtc = dtc.predict(X_test)"
   ]
  },
  {
   "cell_type": "code",
   "execution_count": 65,
   "metadata": {},
   "outputs": [
    {
     "name": "stdout",
     "output_type": "stream",
     "text": [
      "Accuracy:  0.9187798212405636\n",
      "F1 score:  0.050664397460234344\n",
      "Recall:  0.05946527350952674\n",
      "Precision:  0.04413274033527198\n",
      "\n",
      " clasification report:\n",
      "               precision    recall  f1-score   support\n",
      "\n",
      "           0       0.96      0.95      0.96    172056\n",
      "           1       0.04      0.06      0.05      6508\n",
      "\n",
      "    accuracy                           0.92    178564\n",
      "   macro avg       0.50      0.51      0.50    178564\n",
      "weighted avg       0.93      0.92      0.92    178564\n",
      "\n",
      "\n",
      " confussion matrix:\n",
      " [[163674   8382]\n",
      " [  6121    387]]\n"
     ]
    }
   ],
   "source": [
    "print ('Accuracy: ', accuracy_score(y_test, y_pred_dtc))\n",
    "print ('F1 score: ', f1_score(y_test, y_pred_dtc))\n",
    "print ('Recall: ', recall_score(y_test, y_pred_dtc))\n",
    "print ('Precision: ', precision_score(y_test, y_pred_dtc))\n",
    "print ('\\n clasification report:\\n', classification_report(y_test,y_pred_dtc))\n",
    "print ('\\n confussion matrix:\\n',confusion_matrix(y_test, y_pred_dtc))"
   ]
  },
  {
   "cell_type": "code",
   "execution_count": 66,
   "metadata": {},
   "outputs": [],
   "source": [
    "# Decision Trees - Random UnderSampling\n",
    "from sklearn.tree import DecisionTreeClassifier\n",
    "dtc_us = DecisionTreeClassifier(random_state=0)\n",
    "dtc_us.fit(X_resampled_us, y_resampled_us)\n",
    "\n",
    "y_pred_dtc_us = dtc_us.predict(X_test)"
   ]
  },
  {
   "cell_type": "code",
   "execution_count": 67,
   "metadata": {},
   "outputs": [
    {
     "name": "stdout",
     "output_type": "stream",
     "text": [
      "Accuracy:  0.5219641137071303\n",
      "F1 score:  0.07217391304347825\n",
      "Recall:  0.510141364474493\n",
      "Precision:  0.03883404295138727\n",
      "\n",
      " clasification report:\n",
      "               precision    recall  f1-score   support\n",
      "\n",
      "           0       0.97      0.52      0.68    172056\n",
      "           1       0.04      0.51      0.07      6508\n",
      "\n",
      "    accuracy                           0.52    178564\n",
      "   macro avg       0.50      0.52      0.38    178564\n",
      "weighted avg       0.93      0.52      0.66    178564\n",
      "\n",
      "\n",
      " confussion matrix:\n",
      " [[89884 82172]\n",
      " [ 3188  3320]]\n"
     ]
    }
   ],
   "source": [
    "print ('Accuracy: ', accuracy_score(y_test, y_pred_dtc_us))\n",
    "print ('F1 score: ', f1_score(y_test, y_pred_dtc_us))\n",
    "print ('Recall: ', recall_score(y_test, y_pred_dtc_us))\n",
    "print ('Precision: ', precision_score(y_test, y_pred_dtc_us))\n",
    "print ('\\n clasification report:\\n', classification_report(y_test,y_pred_dtc_us))\n",
    "print ('\\n confussion matrix:\\n',confusion_matrix(y_test, y_pred_dtc_us))"
   ]
  },
  {
   "cell_type": "code",
   "execution_count": 24,
   "metadata": {},
   "outputs": [],
   "source": [
    "# Decision Trees - Tomek Links\n",
    "from sklearn.tree import DecisionTreeClassifier\n",
    "dtc_tomek = DecisionTreeClassifier(random_state=0)\n",
    "dtc_tomek.fit(X_resampled_tomek, y_resampled_tomek)\n",
    "\n",
    "y_pred_dtc_tomek = dtc_tomek.predict(X_test)"
   ]
  },
  {
   "cell_type": "code",
   "execution_count": 27,
   "metadata": {},
   "outputs": [
    {
     "name": "stdout",
     "output_type": "stream",
     "text": [
      "Accuracy:  0.9181469949149884\n",
      "F1 score:  0.04918032786885245\n",
      "Recall:  0.05808236017209588\n",
      "Precision:  0.042644404332129966\n",
      "\n",
      " clasification report:\n",
      "               precision    recall  f1-score   support\n",
      "\n",
      "           0       0.96      0.95      0.96    172056\n",
      "           1       0.04      0.06      0.05      6508\n",
      "\n",
      "    accuracy                           0.92    178564\n",
      "   macro avg       0.50      0.50      0.50    178564\n",
      "weighted avg       0.93      0.92      0.92    178564\n",
      "\n",
      "\n",
      " confussion matrix:\n",
      " [[163570   8486]\n",
      " [  6130    378]]\n"
     ]
    }
   ],
   "source": [
    "print ('Accuracy: ', accuracy_score(y_test, y_pred_dtc_tomek))\n",
    "print ('F1 score: ', f1_score(y_test, y_pred_dtc_tomek))\n",
    "print ('Recall: ', recall_score(y_test, y_pred_dtc_tomek))\n",
    "print ('Precision: ', precision_score(y_test, y_pred_dtc_tomek))\n",
    "print ('\\n clasification report:\\n', classification_report(y_test,y_pred_dtc_tomek))\n",
    "print ('\\n confussion matrix:\\n',confusion_matrix(y_test, y_pred_dtc_tomek))"
   ]
  },
  {
   "cell_type": "code",
   "execution_count": 70,
   "metadata": {},
   "outputs": [],
   "source": [
    "# Decision Trees - Random Over-Sampling\n",
    "from sklearn.tree import DecisionTreeClassifier\n",
    "dtc_os = DecisionTreeClassifier(random_state=0)\n",
    "dtc_os.fit(X_resampled_os, y_resampled_os)\n",
    "\n",
    "y_pred_dtc_os = dtc_os.predict(X_test)"
   ]
  },
  {
   "cell_type": "code",
   "execution_count": 71,
   "metadata": {},
   "outputs": [
    {
     "name": "stdout",
     "output_type": "stream",
     "text": [
      "Accuracy:  0.9286754328980086\n",
      "F1 score:  0.045563549160671464\n",
      "Recall:  0.04671173939766441\n",
      "Precision:  0.044470450555880635\n",
      "\n",
      " clasification report:\n",
      "               precision    recall  f1-score   support\n",
      "\n",
      "           0       0.96      0.96      0.96    172056\n",
      "           1       0.04      0.05      0.05      6508\n",
      "\n",
      "    accuracy                           0.93    178564\n",
      "   macro avg       0.50      0.50      0.50    178564\n",
      "weighted avg       0.93      0.93      0.93    178564\n",
      "\n",
      "\n",
      " confussion matrix:\n",
      " [[165524   6532]\n",
      " [  6204    304]]\n"
     ]
    }
   ],
   "source": [
    "print ('Accuracy: ', accuracy_score(y_test, y_pred_dtc_os))\n",
    "print ('F1 score: ', f1_score(y_test, y_pred_dtc_os))\n",
    "print ('Recall: ', recall_score(y_test, y_pred_dtc_os))\n",
    "print ('Precision: ', precision_score(y_test, y_pred_dtc_os))\n",
    "print ('\\n clasification report:\\n', classification_report(y_test,y_pred_dtc_os))\n",
    "print ('\\n confussion matrix:\\n',confusion_matrix(y_test, y_pred_dtc_os))"
   ]
  },
  {
   "cell_type": "code",
   "execution_count": 72,
   "metadata": {},
   "outputs": [],
   "source": [
    "# Decision Trees - SMOTE\n",
    "from sklearn.tree import DecisionTreeClassifier\n",
    "dtc_smt = DecisionTreeClassifier(random_state=0)\n",
    "dtc_smt.fit(X_resampled_smt, y_resampled_smt)\n",
    "\n",
    "y_pred_dtc_smt = dtc_smt.predict(X_test)"
   ]
  },
  {
   "cell_type": "code",
   "execution_count": 73,
   "metadata": {},
   "outputs": [
    {
     "name": "stdout",
     "output_type": "stream",
     "text": [
      "Accuracy:  0.9138460159942654\n",
      "F1 score:  0.050370370370370364\n",
      "Recall:  0.0626920712968654\n",
      "Precision:  0.04209657449442839\n",
      "\n",
      " clasification report:\n",
      "               precision    recall  f1-score   support\n",
      "\n",
      "           0       0.96      0.95      0.95    172056\n",
      "           1       0.04      0.06      0.05      6508\n",
      "\n",
      "    accuracy                           0.91    178564\n",
      "   macro avg       0.50      0.50      0.50    178564\n",
      "weighted avg       0.93      0.91      0.92    178564\n",
      "\n",
      "\n",
      " confussion matrix:\n",
      " [[162772   9284]\n",
      " [  6100    408]]\n"
     ]
    }
   ],
   "source": [
    "print ('Accuracy: ', accuracy_score(y_test, y_pred_dtc_smt))\n",
    "print ('F1 score: ', f1_score(y_test, y_pred_dtc_smt))\n",
    "print ('Recall: ', recall_score(y_test, y_pred_dtc_smt))\n",
    "print ('Precision: ', precision_score(y_test, y_pred_dtc_smt))\n",
    "print ('\\n clasification report:\\n', classification_report(y_test,y_pred_dtc_smt))\n",
    "print ('\\n confussion matrix:\\n',confusion_matrix(y_test, y_pred_dtc_smt))"
   ]
  },
  {
   "cell_type": "code",
   "execution_count": 74,
   "metadata": {},
   "outputs": [],
   "source": [
    "# Decision Trees - ADASYN\n",
    "from sklearn.tree import DecisionTreeClassifier\n",
    "dtc_ada = DecisionTreeClassifier(random_state=0)\n",
    "dtc_ada.fit(X_resampled_ada, y_resampled_ada)\n",
    "\n",
    "y_pred_dtc_ada = dtc_ada.predict(X_test)"
   ]
  },
  {
   "cell_type": "code",
   "execution_count": 75,
   "metadata": {},
   "outputs": [
    {
     "name": "stdout",
     "output_type": "stream",
     "text": [
      "Accuracy:  0.9154756837884456\n",
      "F1 score:  0.05757102716203559\n",
      "Recall:  0.0708358942839582\n",
      "Precision:  0.04849058588408541\n",
      "\n",
      " clasification report:\n",
      "               precision    recall  f1-score   support\n",
      "\n",
      "           0       0.96      0.95      0.96    172056\n",
      "           1       0.05      0.07      0.06      6508\n",
      "\n",
      "    accuracy                           0.92    178564\n",
      "   macro avg       0.51      0.51      0.51    178564\n",
      "weighted avg       0.93      0.92      0.92    178564\n",
      "\n",
      "\n",
      " confussion matrix:\n",
      " [[163010   9046]\n",
      " [  6047    461]]\n"
     ]
    }
   ],
   "source": [
    "print ('Accuracy: ', accuracy_score(y_test, y_pred_dtc_ada))\n",
    "print ('F1 score: ', f1_score(y_test, y_pred_dtc_ada))\n",
    "print ('Recall: ', recall_score(y_test, y_pred_dtc_ada))\n",
    "print ('Precision: ', precision_score(y_test, y_pred_dtc_ada))\n",
    "print ('\\n clasification report:\\n', classification_report(y_test,y_pred_dtc_ada))\n",
    "print ('\\n confussion matrix:\\n',confusion_matrix(y_test, y_pred_dtc_ada))"
   ]
  },
  {
   "cell_type": "code",
   "execution_count": 76,
   "metadata": {},
   "outputs": [],
   "source": [
    "# Decision Trees - SMOTE+TOMEK\n",
    "from sklearn.tree import DecisionTreeClassifier\n",
    "dtc_smt_tmk = DecisionTreeClassifier(random_state=0)\n",
    "dtc_smt_tmk.fit(X_resampled_smt_tmk, y_resampled_smt_tmk)\n",
    "\n",
    "y_pred_dtc_smt_tmk = dtc_smt_tmk.predict(X_test)"
   ]
  },
  {
   "cell_type": "code",
   "execution_count": 77,
   "metadata": {},
   "outputs": [
    {
     "name": "stdout",
     "output_type": "stream",
     "text": [
      "Accuracy:  0.9147588539683251\n",
      "F1 score:  0.05371464096984768\n",
      "Recall:  0.06637984019668101\n",
      "Precision:  0.04510807142111308\n",
      "\n",
      " clasification report:\n",
      "               precision    recall  f1-score   support\n",
      "\n",
      "           0       0.96      0.95      0.96    172056\n",
      "           1       0.05      0.07      0.05      6508\n",
      "\n",
      "    accuracy                           0.91    178564\n",
      "   macro avg       0.50      0.51      0.50    178564\n",
      "weighted avg       0.93      0.91      0.92    178564\n",
      "\n",
      "\n",
      " confussion matrix:\n",
      " [[162911   9145]\n",
      " [  6076    432]]\n"
     ]
    }
   ],
   "source": [
    "print ('Accuracy: ', accuracy_score(y_test, y_pred_dtc_smt_tmk))\n",
    "print ('F1 score: ', f1_score(y_test, y_pred_dtc_smt_tmk))\n",
    "print ('Recall: ', recall_score(y_test, y_pred_dtc_smt_tmk))\n",
    "print ('Precision: ', precision_score(y_test, y_pred_dtc_smt_tmk))\n",
    "print ('\\n clasification report:\\n', classification_report(y_test,y_pred_dtc_smt_tmk))\n",
    "print ('\\n confussion matrix:\\n',confusion_matrix(y_test, y_pred_dtc_smt_tmk))"
   ]
  },
  {
   "cell_type": "markdown",
   "metadata": {},
   "source": [
    "# Random Forest"
   ]
  },
  {
   "cell_type": "code",
   "execution_count": 78,
   "metadata": {},
   "outputs": [],
   "source": [
    "# Random Forest - Base\n",
    "from sklearn.ensemble import RandomForestClassifier\n",
    "rf = RandomForestClassifier()\n",
    "rf.fit(X_train, y_train)\n",
    "\n",
    "y_pred_rf = rf.predict(X_test)"
   ]
  },
  {
   "cell_type": "code",
   "execution_count": 79,
   "metadata": {},
   "outputs": [
    {
     "name": "stdout",
     "output_type": "stream",
     "text": [
      "Accuracy:  0.9635424833673081\n",
      "F1 score:  0.0003071253071253071\n",
      "Recall:  0.00015365703749231714\n",
      "Precision:  0.25\n",
      "\n",
      " clasification report:\n",
      "               precision    recall  f1-score   support\n",
      "\n",
      "           0       0.96      1.00      0.98    172056\n",
      "           1       0.25      0.00      0.00      6508\n",
      "\n",
      "    accuracy                           0.96    178564\n",
      "   macro avg       0.61      0.50      0.49    178564\n",
      "weighted avg       0.94      0.96      0.95    178564\n",
      "\n",
      "\n",
      " confussion matrix:\n",
      " [[172053      3]\n",
      " [  6507      1]]\n"
     ]
    }
   ],
   "source": [
    "print ('Accuracy: ', accuracy_score(y_test, y_pred_rf))\n",
    "print ('F1 score: ', f1_score(y_test, y_pred_rf))\n",
    "print ('Recall: ', recall_score(y_test, y_pred_rf))\n",
    "print ('Precision: ', precision_score(y_test, y_pred_rf))\n",
    "print ('\\n clasification report:\\n', classification_report(y_test,y_pred_rf))\n",
    "print ('\\n confussion matrix:\\n',confusion_matrix(y_test, y_pred_rf))"
   ]
  },
  {
   "cell_type": "code",
   "execution_count": 80,
   "metadata": {},
   "outputs": [],
   "source": [
    "# Random Forest - Random UnderSampling\n",
    "rf_us = RandomForestClassifier()\n",
    "rf_us.fit(X_resampled_us, y_resampled_us)\n",
    "\n",
    "y_pred_rf_us = rf_us.predict(X_test)"
   ]
  },
  {
   "cell_type": "code",
   "execution_count": 81,
   "metadata": {},
   "outputs": [
    {
     "name": "stdout",
     "output_type": "stream",
     "text": [
      "Accuracy:  0.5786832732241661\n",
      "F1 score:  0.08623621435164942\n",
      "Recall:  0.5454824830977258\n",
      "Precision:  0.046818949145389324\n",
      "\n",
      " clasification report:\n",
      "               precision    recall  f1-score   support\n",
      "\n",
      "           0       0.97      0.58      0.73    172056\n",
      "           1       0.05      0.55      0.09      6508\n",
      "\n",
      "    accuracy                           0.58    178564\n",
      "   macro avg       0.51      0.56      0.41    178564\n",
      "weighted avg       0.94      0.58      0.70    178564\n",
      "\n",
      "\n",
      " confussion matrix:\n",
      " [[99782 72274]\n",
      " [ 2958  3550]]\n"
     ]
    }
   ],
   "source": [
    "print ('Accuracy: ', accuracy_score(y_test, y_pred_rf_us))\n",
    "print ('F1 score: ', f1_score(y_test, y_pred_rf_us))\n",
    "print ('Recall: ', recall_score(y_test, y_pred_rf_us))\n",
    "print ('Precision: ', precision_score(y_test, y_pred_rf_us))\n",
    "print ('\\n clasification report:\\n', classification_report(y_test,y_pred_rf_us))\n",
    "print ('\\n confussion matrix:\\n',confusion_matrix(y_test, y_pred_rf_us))"
   ]
  },
  {
   "cell_type": "code",
   "execution_count": 82,
   "metadata": {},
   "outputs": [],
   "source": [
    "# Random Forest - Tomek Links\n",
    "rf_tomek = RandomForestClassifier()\n",
    "rf_tomek.fit(X_resampled_tomek, y_resampled_tomek)\n",
    "\n",
    "y_pred_rf_tomek = rf_tomek.predict(X_test)"
   ]
  },
  {
   "cell_type": "code",
   "execution_count": 83,
   "metadata": {},
   "outputs": [
    {
     "name": "stdout",
     "output_type": "stream",
     "text": [
      "Accuracy:  0.9635368831343384\n",
      "F1 score:  0.0003070781513895286\n",
      "Recall:  0.00015365703749231714\n",
      "Precision:  0.2\n",
      "\n",
      " clasification report:\n",
      "               precision    recall  f1-score   support\n",
      "\n",
      "           0       0.96      1.00      0.98    172056\n",
      "           1       0.20      0.00      0.00      6508\n",
      "\n",
      "    accuracy                           0.96    178564\n",
      "   macro avg       0.58      0.50      0.49    178564\n",
      "weighted avg       0.94      0.96      0.95    178564\n",
      "\n",
      "\n",
      " confussion matrix:\n",
      " [[172052      4]\n",
      " [  6507      1]]\n"
     ]
    }
   ],
   "source": [
    "print ('Accuracy: ', accuracy_score(y_test, y_pred_rf_tomek))\n",
    "print ('F1 score: ', f1_score(y_test, y_pred_rf_tomek))\n",
    "print ('Recall: ', recall_score(y_test, y_pred_rf_tomek))\n",
    "print ('Precision: ', precision_score(y_test, y_pred_rf_tomek))\n",
    "print ('\\n clasification report:\\n', classification_report(y_test,y_pred_rf_tomek))\n",
    "print ('\\n confussion matrix:\\n',confusion_matrix(y_test, y_pred_rf_tomek))"
   ]
  },
  {
   "cell_type": "code",
   "execution_count": 84,
   "metadata": {},
   "outputs": [],
   "source": [
    "# Random Forest - Random Over-Sampling\n",
    "rf_os = RandomForestClassifier()\n",
    "rf_os.fit(X_resampled_os, y_resampled_os)\n",
    "\n",
    "y_pred_rf_os = rf_os.predict(X_test)"
   ]
  },
  {
   "cell_type": "code",
   "execution_count": 85,
   "metadata": {},
   "outputs": [
    {
     "name": "stdout",
     "output_type": "stream",
     "text": [
      "Accuracy:  0.9634472794068233\n",
      "F1 score:  0.0009184142048063677\n",
      "Recall:  0.00046097111247695143\n",
      "Precision:  0.12\n",
      "\n",
      " clasification report:\n",
      "               precision    recall  f1-score   support\n",
      "\n",
      "           0       0.96      1.00      0.98    172056\n",
      "           1       0.12      0.00      0.00      6508\n",
      "\n",
      "    accuracy                           0.96    178564\n",
      "   macro avg       0.54      0.50      0.49    178564\n",
      "weighted avg       0.93      0.96      0.95    178564\n",
      "\n",
      "\n",
      " confussion matrix:\n",
      " [[172034     22]\n",
      " [  6505      3]]\n"
     ]
    }
   ],
   "source": [
    "print ('Accuracy: ', accuracy_score(y_test, y_pred_rf_os))\n",
    "print ('F1 score: ', f1_score(y_test, y_pred_rf_os))\n",
    "print ('Recall: ', recall_score(y_test, y_pred_rf_os))\n",
    "print ('Precision: ', precision_score(y_test, y_pred_rf_os))\n",
    "print ('\\n clasification report:\\n', classification_report(y_test,y_pred_rf_os))\n",
    "print ('\\n confussion matrix:\\n',confusion_matrix(y_test, y_pred_rf_os))"
   ]
  },
  {
   "cell_type": "code",
   "execution_count": 86,
   "metadata": {},
   "outputs": [],
   "source": [
    "# Random Forest - SMOTE\n",
    "rf_smt = RandomForestClassifier()\n",
    "rf_smt.fit(X_resampled_smt, y_resampled_smt)\n",
    "\n",
    "y_pred_rf_smt = rf_smt.predict(X_test)"
   ]
  },
  {
   "cell_type": "code",
   "execution_count": 87,
   "metadata": {},
   "outputs": [
    {
     "name": "stdout",
     "output_type": "stream",
     "text": [
      "Accuracy:  0.9630776640308237\n",
      "F1 score:  0.0027227348358795944\n",
      "Recall:  0.0013829133374308542\n",
      "Precision:  0.08737864077669903\n",
      "\n",
      " clasification report:\n",
      "               precision    recall  f1-score   support\n",
      "\n",
      "           0       0.96      1.00      0.98    172056\n",
      "           1       0.09      0.00      0.00      6508\n",
      "\n",
      "    accuracy                           0.96    178564\n",
      "   macro avg       0.53      0.50      0.49    178564\n",
      "weighted avg       0.93      0.96      0.95    178564\n",
      "\n",
      "\n",
      " confussion matrix:\n",
      " [[171962     94]\n",
      " [  6499      9]]\n"
     ]
    }
   ],
   "source": [
    "print ('Accuracy: ', accuracy_score(y_test, y_pred_rf_smt))\n",
    "print ('F1 score: ', f1_score(y_test, y_pred_rf_smt))\n",
    "print ('Recall: ', recall_score(y_test, y_pred_rf_smt))\n",
    "print ('Precision: ', precision_score(y_test, y_pred_rf_smt))\n",
    "print ('\\n clasification report:\\n', classification_report(y_test,y_pred_rf_smt))\n",
    "print ('\\n confussion matrix:\\n',confusion_matrix(y_test, y_pred_rf_smt))"
   ]
  },
  {
   "cell_type": "code",
   "execution_count": 88,
   "metadata": {},
   "outputs": [],
   "source": [
    "# Random Forest - ADASYN\n",
    "rf_ada = RandomForestClassifier()\n",
    "rf_ada.fit(X_resampled_ada, y_resampled_ada)\n",
    "\n",
    "y_pred_rf_ada = rf_ada.predict(X_test)"
   ]
  },
  {
   "cell_type": "code",
   "execution_count": 89,
   "metadata": {},
   "outputs": [
    {
     "name": "stdout",
     "output_type": "stream",
     "text": [
      "Accuracy:  0.9630944647297327\n",
      "F1 score:  0.0024220405691795337\n",
      "Recall:  0.001229256299938537\n",
      "Precision:  0.08163265306122448\n",
      "\n",
      " clasification report:\n",
      "               precision    recall  f1-score   support\n",
      "\n",
      "           0       0.96      1.00      0.98    172056\n",
      "           1       0.08      0.00      0.00      6508\n",
      "\n",
      "    accuracy                           0.96    178564\n",
      "   macro avg       0.52      0.50      0.49    178564\n",
      "weighted avg       0.93      0.96      0.95    178564\n",
      "\n",
      "\n",
      " confussion matrix:\n",
      " [[171966     90]\n",
      " [  6500      8]]\n"
     ]
    }
   ],
   "source": [
    "print ('Accuracy: ', accuracy_score(y_test, y_pred_rf_ada))\n",
    "print ('F1 score: ', f1_score(y_test, y_pred_rf_ada))\n",
    "print ('Recall: ', recall_score(y_test, y_pred_rf_ada))\n",
    "print ('Precision: ', precision_score(y_test, y_pred_rf_ada))\n",
    "print ('\\n clasification report:\\n', classification_report(y_test,y_pred_rf_ada))\n",
    "print ('\\n confussion matrix:\\n',confusion_matrix(y_test, y_pred_rf_ada))"
   ]
  },
  {
   "cell_type": "code",
   "execution_count": 90,
   "metadata": {},
   "outputs": [],
   "source": [
    "# Random Forest - SMOTE+TOMEK\n",
    "rf_smt_tmk = RandomForestClassifier()\n",
    "rf_smt_tmk.fit(X_resampled_smt_tmk, y_resampled_smt_tmk)\n",
    "\n",
    "y_pred_rf_smt_tmk = rf_smt_tmk.predict(X_test)"
   ]
  },
  {
   "cell_type": "code",
   "execution_count": 91,
   "metadata": {},
   "outputs": [
    {
     "name": "stdout",
     "output_type": "stream",
     "text": [
      "Accuracy:  0.9630216617011268\n",
      "F1 score:  0.0018140589569160996\n",
      "Recall:  0.0009219422249539029\n",
      "Precision:  0.056074766355140186\n",
      "\n",
      " clasification report:\n",
      "               precision    recall  f1-score   support\n",
      "\n",
      "           0       0.96      1.00      0.98    172056\n",
      "           1       0.06      0.00      0.00      6508\n",
      "\n",
      "    accuracy                           0.96    178564\n",
      "   macro avg       0.51      0.50      0.49    178564\n",
      "weighted avg       0.93      0.96      0.95    178564\n",
      "\n",
      "\n",
      " confussion matrix:\n",
      " [[171955    101]\n",
      " [  6502      6]]\n"
     ]
    }
   ],
   "source": [
    "print ('Accuracy: ', accuracy_score(y_test, y_pred_rf_smt_tmk))\n",
    "print ('F1 score: ', f1_score(y_test, y_pred_rf_smt_tmk))\n",
    "print ('Recall: ', recall_score(y_test, y_pred_rf_smt_tmk))\n",
    "print ('Precision: ', precision_score(y_test, y_pred_rf_smt_tmk))\n",
    "print ('\\n clasification report:\\n', classification_report(y_test,y_pred_rf_smt_tmk))\n",
    "print ('\\n confussion matrix:\\n',confusion_matrix(y_test, y_pred_rf_smt_tmk))"
   ]
  },
  {
   "cell_type": "markdown",
   "metadata": {},
   "source": [
    "So we ran three different algorithm with various techniques to handle imbalanced classes. Lets compare the results now. "
   ]
  },
  {
   "attachments": {
    "image.png": {
     "image/png": "[encoded data removed]"
    }
   },
   "cell_type": "markdown",
   "metadata": {},
   "source": [
    "![image.png](attachment:image.png)"
   ]
  },
  {
   "cell_type": "markdown",
   "metadata": {},
   "source": [
    "As we can see above on the summary table, we have recall value highest for Random Forest with random undersampling. We can also notice that recall values of logistic regression for both under and oversamplings are closer to each other. Within logistic regression random undersampling has highest recall. \n",
    "\n",
    "\n",
    "So we will pick up random forest with undersampling method as best performing model. \n",
    "\n",
    "\n",
    "As a next step we do need to further fine tune the model by working on to optimize hyperparameters using grid search/ randomized search. Also, we need to do a 5 or 10 fold cross validation on the training set before finalizing the model."
   ]
  },
  {
   "cell_type": "markdown",
   "metadata": {},
   "source": [
    "# Conclusion\n",
    "\n",
    "Its very important to understand that there is no single methodology which suits all problems.\n",
    "\n",
    "\n",
    "1. As we can see, there are some cases where undersampling methods are performing better than oversampling methods, and in some, oversampling mehtods are performing better than undersampling, but its also important to use multiple methods for feature engineering of the data and then compare results for selecting the best possible method.\n",
    "2. As undersampling methods removes majority class from data - It can be an issue in many cases as we might lose significant information.\n",
    "3. Also, the use of over-sampling methods generates samples from data - It can result in creating irrelevant observations and can also result in overfitting.\n",
    "4. Interpreting and understaning the evaluation metric is important and how these can be used to help solve a business problem in the real world.\n",
    "5. Model evaluation - Do not use accuracy score as a metric. In a dataset with 96% non-claim observations, you will likely make correct prediction 96% of time. Confusion matrix and precision/recall score are better metric."
   ]
  },
  {
   "cell_type": "code",
   "execution_count": null,
   "metadata": {},
   "outputs": [],
   "source": []
  }
 ],
 "metadata": {
  "kernelspec": {
   "display_name": "Python 3 (ipykernel)",
   "language": "python",
   "name": "python3"
  },
  "language_info": {
   "codemirror_mode": {
    "name": "ipython",
    "version": 3
   },
   "file_extension": ".py",
   "mimetype": "text/x-python",
   "name": "python",
   "nbconvert_exporter": "python",
   "pygments_lexer": "ipython3",
   "version": "3.9.12"
  }
 },
 "nbformat": 4,
 "nbformat_minor": 2
}
